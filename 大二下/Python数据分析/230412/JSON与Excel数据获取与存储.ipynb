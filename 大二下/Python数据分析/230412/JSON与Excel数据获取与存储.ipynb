{
 "cells": [
  {
   "cell_type": "code",
   "execution_count": 1,
   "metadata": {},
   "outputs": [],
   "source": [
    "import numpy as np\n",
    "import pandas as pd\n",
    "from pandas import Series, DataFrame"
   ]
  },
  {
   "cell_type": "markdown",
   "metadata": {},
   "source": [
    "# 一.json数据的获取与存储"
   ]
  },
  {
   "cell_type": "code",
   "execution_count": 2,
   "metadata": {},
   "outputs": [
    {
     "data": {
      "text/html": [
       "<div>\n",
       "<style scoped>\n",
       "    .dataframe tbody tr th:only-of-type {\n",
       "        vertical-align: middle;\n",
       "    }\n",
       "\n",
       "    .dataframe tbody tr th {\n",
       "        vertical-align: top;\n",
       "    }\n",
       "\n",
       "    .dataframe thead th {\n",
       "        text-align: right;\n",
       "    }\n",
       "</style>\n",
       "<table border=\"1\" class=\"dataframe\">\n",
       "  <thead>\n",
       "    <tr style=\"text-align: right;\">\n",
       "      <th></th>\n",
       "      <th>film</th>\n",
       "    </tr>\n",
       "  </thead>\n",
       "  <tbody>\n",
       "    <tr>\n",
       "      <th>rank</th>\n",
       "      <td>1</td>\n",
       "    </tr>\n",
       "    <tr>\n",
       "      <th>title</th>\n",
       "      <td>憨豆先生精选辑</td>\n",
       "    </tr>\n",
       "    <tr>\n",
       "      <th>types</th>\n",
       "      <td>喜剧</td>\n",
       "    </tr>\n",
       "  </tbody>\n",
       "</table>\n",
       "</div>"
      ],
      "text/plain": [
       "          film\n",
       "rank         1\n",
       "title  憨豆先生精选辑\n",
       "types       喜剧"
      ]
     },
     "execution_count": 2,
     "metadata": {},
     "output_type": "execute_result"
    }
   ],
   "source": [
    "json_data = pd.read_json(r'./jsonExcel/douban.json', encoding='utf8')\n",
    "json_data"
   ]
  },
  {
   "cell_type": "code",
   "execution_count": 3,
   "metadata": {},
   "outputs": [],
   "source": [
    "json_data.to_json(r'./jsonExcel/douban_save.json', force_ascii=False) # 不强制把字符串编码改为:ASCII"
   ]
  },
  {
   "cell_type": "code",
   "execution_count": 4,
   "metadata": {},
   "outputs": [
    {
     "data": {
      "text/html": [
       "<div>\n",
       "<style scoped>\n",
       "    .dataframe tbody tr th:only-of-type {\n",
       "        vertical-align: middle;\n",
       "    }\n",
       "\n",
       "    .dataframe tbody tr th {\n",
       "        vertical-align: top;\n",
       "    }\n",
       "\n",
       "    .dataframe thead th {\n",
       "        text-align: right;\n",
       "    }\n",
       "</style>\n",
       "<table border=\"1\" class=\"dataframe\">\n",
       "  <thead>\n",
       "    <tr style=\"text-align: right;\">\n",
       "      <th></th>\n",
       "      <th>rank</th>\n",
       "      <th>title</th>\n",
       "      <th>types</th>\n",
       "    </tr>\n",
       "  </thead>\n",
       "  <tbody>\n",
       "    <tr>\n",
       "      <th>0</th>\n",
       "      <td>2</td>\n",
       "      <td>美丽人生</td>\n",
       "      <td>喜剧</td>\n",
       "    </tr>\n",
       "    <tr>\n",
       "      <th>1</th>\n",
       "      <td>3</td>\n",
       "      <td>福尔摩斯二世</td>\n",
       "      <td>喜剧</td>\n",
       "    </tr>\n",
       "  </tbody>\n",
       "</table>\n",
       "</div>"
      ],
      "text/plain": [
       "   rank   title types\n",
       "0     2    美丽人生    喜剧\n",
       "1     3  福尔摩斯二世    喜剧"
      ]
     },
     "execution_count": 4,
     "metadata": {},
     "output_type": "execute_result"
    }
   ],
   "source": [
    "json_data = pd.read_json(r'./jsonExcel/douban2.json', encoding='utf8')\n",
    "json_data.to_json(r'./jsonExcel/douban2_save.json', force_ascii=False)\n",
    "json_data"
   ]
  },
  {
   "cell_type": "code",
   "execution_count": 5,
   "metadata": {},
   "outputs": [
    {
     "data": {
      "text/html": [
       "<div>\n",
       "<style scoped>\n",
       "    .dataframe tbody tr th:only-of-type {\n",
       "        vertical-align: middle;\n",
       "    }\n",
       "\n",
       "    .dataframe tbody tr th {\n",
       "        vertical-align: top;\n",
       "    }\n",
       "\n",
       "    .dataframe thead th {\n",
       "        text-align: right;\n",
       "    }\n",
       "</style>\n",
       "<table border=\"1\" class=\"dataframe\">\n",
       "  <thead>\n",
       "    <tr style=\"text-align: right;\">\n",
       "      <th></th>\n",
       "      <th>哺乳动物</th>\n",
       "      <th>鱼类动物</th>\n",
       "      <th>飞禽类动物</th>\n",
       "      <th>昆虫类动物</th>\n",
       "    </tr>\n",
       "  </thead>\n",
       "  <tbody>\n",
       "    <tr>\n",
       "      <th>0</th>\n",
       "      <td>虎</td>\n",
       "      <td>龙鱼</td>\n",
       "      <td>丹顶鹤</td>\n",
       "      <td>蝴蝶</td>\n",
       "    </tr>\n",
       "    <tr>\n",
       "      <th>1</th>\n",
       "      <td>猴子</td>\n",
       "      <td>鲶鱼</td>\n",
       "      <td>金雕</td>\n",
       "      <td>金龟子</td>\n",
       "    </tr>\n",
       "    <tr>\n",
       "      <th>2</th>\n",
       "      <td>狗</td>\n",
       "      <td>鳟鱼</td>\n",
       "      <td>白鹭</td>\n",
       "      <td>蜜蜂</td>\n",
       "    </tr>\n",
       "    <tr>\n",
       "      <th>3</th>\n",
       "      <td>猫</td>\n",
       "      <td>章鱼</td>\n",
       "      <td>鸽子</td>\n",
       "      <td>蜻蜓</td>\n",
       "    </tr>\n",
       "    <tr>\n",
       "      <th>4</th>\n",
       "      <td>鹿</td>\n",
       "      <td>草鱼</td>\n",
       "      <td>天鹅</td>\n",
       "      <td>螳螂</td>\n",
       "    </tr>\n",
       "  </tbody>\n",
       "</table>\n",
       "</div>"
      ],
      "text/plain": [
       "  哺乳动物 鱼类动物 飞禽类动物 昆虫类动物\n",
       "0    虎   龙鱼   丹顶鹤    蝴蝶\n",
       "1   猴子   鲶鱼    金雕   金龟子\n",
       "2    狗   鳟鱼    白鹭    蜜蜂\n",
       "3    猫   章鱼    鸽子    蜻蜓\n",
       "4    鹿   草鱼    天鹅    螳螂"
      ]
     },
     "execution_count": 5,
     "metadata": {},
     "output_type": "execute_result"
    }
   ],
   "source": [
    "json_data = pd.read_json(r'./jsonExcel/Animal_species.json', encoding='utf8')\n",
    "json_data.to_json(r'./jsonExcel/Animal_species_save.json', force_ascii=False)\n",
    "json_data"
   ]
  },
  {
   "cell_type": "markdown",
   "metadata": {},
   "source": [
    "# 二.Excel数据的获取与存储"
   ]
  },
  {
   "cell_type": "code",
   "execution_count": 6,
   "metadata": {},
   "outputs": [
    {
     "data": {
      "text/html": [
       "<div>\n",
       "<style scoped>\n",
       "    .dataframe tbody tr th:only-of-type {\n",
       "        vertical-align: middle;\n",
       "    }\n",
       "\n",
       "    .dataframe tbody tr th {\n",
       "        vertical-align: top;\n",
       "    }\n",
       "\n",
       "    .dataframe thead th {\n",
       "        text-align: right;\n",
       "    }\n",
       "</style>\n",
       "<table border=\"1\" class=\"dataframe\">\n",
       "  <thead>\n",
       "    <tr style=\"text-align: right;\">\n",
       "      <th></th>\n",
       "      <th>名称</th>\n",
       "      <th>单价\n",
       "（元/斤）</th>\n",
       "      <th>一部销量</th>\n",
       "      <th>二部销量</th>\n",
       "      <th>三部销量</th>\n",
       "      <th>四部销量</th>\n",
       "    </tr>\n",
       "  </thead>\n",
       "  <tbody>\n",
       "    <tr>\n",
       "      <th>0</th>\n",
       "      <td>菜花</td>\n",
       "      <td>1.450</td>\n",
       "      <td>0</td>\n",
       "      <td>40</td>\n",
       "      <td>0</td>\n",
       "      <td>0</td>\n",
       "    </tr>\n",
       "    <tr>\n",
       "      <th>1</th>\n",
       "      <td>菜心</td>\n",
       "      <td>3.750</td>\n",
       "      <td>0</td>\n",
       "      <td>46</td>\n",
       "      <td>22</td>\n",
       "      <td>30</td>\n",
       "    </tr>\n",
       "    <tr>\n",
       "      <th>2</th>\n",
       "      <td>茶树菇</td>\n",
       "      <td>8.625</td>\n",
       "      <td>30</td>\n",
       "      <td>0</td>\n",
       "      <td>0</td>\n",
       "      <td>0</td>\n",
       "    </tr>\n",
       "    <tr>\n",
       "      <th>3</th>\n",
       "      <td>大白菜</td>\n",
       "      <td>0.500</td>\n",
       "      <td>0</td>\n",
       "      <td>50</td>\n",
       "      <td>0</td>\n",
       "      <td>0</td>\n",
       "    </tr>\n",
       "  </tbody>\n",
       "</table>\n",
       "</div>"
      ],
      "text/plain": [
       "    名称  单价\\n（元/斤）  一部销量  二部销量  三部销量  四部销量\n",
       "0   菜花      1.450     0    40     0     0\n",
       "1   菜心      3.750     0    46    22    30\n",
       "2  茶树菇      8.625    30     0     0     0\n",
       "3  大白菜      0.500     0    50     0     0"
      ]
     },
     "execution_count": 6,
     "metadata": {},
     "output_type": "execute_result"
    }
   ],
   "source": [
    "excel_data = pd.read_excel(r'./jsonExcel/data.xlsx') # 缺省状态下读sheet1, sheet_name=0\n",
    "excel_data"
   ]
  },
  {
   "cell_type": "code",
   "execution_count": 7,
   "metadata": {},
   "outputs": [
    {
     "data": {
      "text/html": [
       "<div>\n",
       "<style scoped>\n",
       "    .dataframe tbody tr th:only-of-type {\n",
       "        vertical-align: middle;\n",
       "    }\n",
       "\n",
       "    .dataframe tbody tr th {\n",
       "        vertical-align: top;\n",
       "    }\n",
       "\n",
       "    .dataframe thead th {\n",
       "        text-align: right;\n",
       "    }\n",
       "</style>\n",
       "<table border=\"1\" class=\"dataframe\">\n",
       "  <thead>\n",
       "    <tr style=\"text-align: right;\">\n",
       "      <th></th>\n",
       "      <th>名称</th>\n",
       "      <th>单价\n",
       "（元/斤）</th>\n",
       "      <th>一部销量</th>\n",
       "      <th>二部销量</th>\n",
       "      <th>三部销量</th>\n",
       "      <th>四部销量</th>\n",
       "    </tr>\n",
       "  </thead>\n",
       "  <tbody>\n",
       "    <tr>\n",
       "      <th>0</th>\n",
       "      <td>鹌鹑蛋</td>\n",
       "      <td>8.675</td>\n",
       "      <td>0</td>\n",
       "      <td>0</td>\n",
       "      <td>0.0</td>\n",
       "      <td>8</td>\n",
       "    </tr>\n",
       "    <tr>\n",
       "      <th>1</th>\n",
       "      <td>白萝卜</td>\n",
       "      <td>0.650</td>\n",
       "      <td>0</td>\n",
       "      <td>6</td>\n",
       "      <td>4.0</td>\n",
       "      <td>0</td>\n",
       "    </tr>\n",
       "    <tr>\n",
       "      <th>2</th>\n",
       "      <td>白山药</td>\n",
       "      <td>1.950</td>\n",
       "      <td>0</td>\n",
       "      <td>0</td>\n",
       "      <td>5.0</td>\n",
       "      <td>0</td>\n",
       "    </tr>\n",
       "    <tr>\n",
       "      <th>3</th>\n",
       "      <td>白玉菇</td>\n",
       "      <td>4.450</td>\n",
       "      <td>0</td>\n",
       "      <td>0</td>\n",
       "      <td>2.5</td>\n",
       "      <td>0</td>\n",
       "    </tr>\n",
       "  </tbody>\n",
       "</table>\n",
       "</div>"
      ],
      "text/plain": [
       "    名称  单价\\n（元/斤）  一部销量  二部销量  三部销量  四部销量\n",
       "0  鹌鹑蛋      8.675     0     0   0.0     8\n",
       "1  白萝卜      0.650     0     6   4.0     0\n",
       "2  白山药      1.950     0     0   5.0     0\n",
       "3  白玉菇      4.450     0     0   2.5     0"
      ]
     },
     "execution_count": 7,
     "metadata": {},
     "output_type": "execute_result"
    }
   ],
   "source": [
    "excel_data = pd.read_excel(r'./jsonExcel/data.xlsx', sheet_name='Sheet2') # 选择指定工作表, sheet_name=1同理\n",
    "excel_data"
   ]
  },
  {
   "cell_type": "code",
   "execution_count": 8,
   "metadata": {},
   "outputs": [
    {
     "data": {
      "text/plain": [
       "OrderedDict([('Sheet1',     名称  单价\\n（元/斤）  一部销量  二部销量  三部销量  四部销量\n",
       "              0   菜花      1.450     0    40     0     0\n",
       "              1   菜心      3.750     0    46    22    30\n",
       "              2  茶树菇      8.625    30     0     0     0\n",
       "              3  大白菜      0.500     0    50     0     0),\n",
       "             ('Sheet2',     名称  单价\\n（元/斤）  一部销量  二部销量  三部销量  四部销量\n",
       "              0  鹌鹑蛋      8.675     0     0   0.0     8\n",
       "              1  白萝卜      0.650     0     6   4.0     0\n",
       "              2  白山药      1.950     0     0   5.0     0\n",
       "              3  白玉菇      4.450     0     0   2.5     0),\n",
       "             ('Sheet3',      名称  单价\\n（元/斤）  一部销量  二部销量  三部销量  四部销量\n",
       "              0    紫薯      4.200     5    50     0     0\n",
       "              1  紫皮洋葱      1.300    15     0     0     0\n",
       "              2   紫甘蓝      0.825     5    26     0     4\n",
       "              3    竹笋      9.100     0     4     0     0)])"
      ]
     },
     "execution_count": 8,
     "metadata": {},
     "output_type": "execute_result"
    }
   ],
   "source": [
    "excel_data = pd.read_excel(r'./jsonExcel/data.xlsx', sheet_name=None) # 读取全部工作表\n",
    "excel_data"
   ]
  },
  {
   "cell_type": "code",
   "execution_count": 9,
   "metadata": {},
   "outputs": [
    {
     "data": {
      "text/html": [
       "<div>\n",
       "<style scoped>\n",
       "    .dataframe tbody tr th:only-of-type {\n",
       "        vertical-align: middle;\n",
       "    }\n",
       "\n",
       "    .dataframe tbody tr th {\n",
       "        vertical-align: top;\n",
       "    }\n",
       "\n",
       "    .dataframe thead th {\n",
       "        text-align: right;\n",
       "    }\n",
       "</style>\n",
       "<table border=\"1\" class=\"dataframe\">\n",
       "  <thead>\n",
       "    <tr style=\"text-align: right;\">\n",
       "      <th></th>\n",
       "      <th>名称</th>\n",
       "      <th>单价\n",
       "（元/斤）</th>\n",
       "      <th>一部销量</th>\n",
       "      <th>二部销量</th>\n",
       "      <th>三部销量</th>\n",
       "      <th>四部销量</th>\n",
       "    </tr>\n",
       "  </thead>\n",
       "  <tbody>\n",
       "    <tr>\n",
       "      <th>0</th>\n",
       "      <td>紫薯</td>\n",
       "      <td>4.200</td>\n",
       "      <td>5</td>\n",
       "      <td>50</td>\n",
       "      <td>0</td>\n",
       "      <td>0</td>\n",
       "    </tr>\n",
       "    <tr>\n",
       "      <th>1</th>\n",
       "      <td>紫皮洋葱</td>\n",
       "      <td>1.300</td>\n",
       "      <td>15</td>\n",
       "      <td>0</td>\n",
       "      <td>0</td>\n",
       "      <td>0</td>\n",
       "    </tr>\n",
       "    <tr>\n",
       "      <th>2</th>\n",
       "      <td>紫甘蓝</td>\n",
       "      <td>0.825</td>\n",
       "      <td>5</td>\n",
       "      <td>26</td>\n",
       "      <td>0</td>\n",
       "      <td>4</td>\n",
       "    </tr>\n",
       "    <tr>\n",
       "      <th>3</th>\n",
       "      <td>竹笋</td>\n",
       "      <td>9.100</td>\n",
       "      <td>0</td>\n",
       "      <td>4</td>\n",
       "      <td>0</td>\n",
       "      <td>0</td>\n",
       "    </tr>\n",
       "  </tbody>\n",
       "</table>\n",
       "</div>"
      ],
      "text/plain": [
       "     名称  单价\\n（元/斤）  一部销量  二部销量  三部销量  四部销量\n",
       "0    紫薯      4.200     5    50     0     0\n",
       "1  紫皮洋葱      1.300    15     0     0     0\n",
       "2   紫甘蓝      0.825     5    26     0     4\n",
       "3    竹笋      9.100     0     4     0     0"
      ]
     },
     "execution_count": 9,
     "metadata": {},
     "output_type": "execute_result"
    }
   ],
   "source": [
    "excel_data['Sheet3'] # 读取全部后选择读取'Sheet3'"
   ]
  },
  {
   "cell_type": "markdown",
   "metadata": {},
   "source": [
    "## 1.写入单个Sheet到表格中"
   ]
  },
  {
   "cell_type": "code",
   "execution_count": 10,
   "metadata": {},
   "outputs": [
    {
     "data": {
      "text/html": [
       "<div>\n",
       "<style scoped>\n",
       "    .dataframe tbody tr th:only-of-type {\n",
       "        vertical-align: middle;\n",
       "    }\n",
       "\n",
       "    .dataframe tbody tr th {\n",
       "        vertical-align: top;\n",
       "    }\n",
       "\n",
       "    .dataframe thead th {\n",
       "        text-align: right;\n",
       "    }\n",
       "</style>\n",
       "<table border=\"1\" class=\"dataframe\">\n",
       "  <thead>\n",
       "    <tr style=\"text-align: right;\">\n",
       "      <th></th>\n",
       "      <th>col1</th>\n",
       "      <th>col2</th>\n",
       "    </tr>\n",
       "  </thead>\n",
       "  <tbody>\n",
       "    <tr>\n",
       "      <th>0</th>\n",
       "      <td>A</td>\n",
       "      <td>B</td>\n",
       "    </tr>\n",
       "    <tr>\n",
       "      <th>1</th>\n",
       "      <td>C</td>\n",
       "      <td>D</td>\n",
       "    </tr>\n",
       "  </tbody>\n",
       "</table>\n",
       "</div>"
      ],
      "text/plain": [
       "  col1 col2\n",
       "0    A    B\n",
       "1    C    D"
      ]
     },
     "execution_count": 10,
     "metadata": {},
     "output_type": "execute_result"
    }
   ],
   "source": [
    "dict = {\n",
    "    'col1': ['A', 'C'],\n",
    "    'col2': ['B', 'D']\n",
    "}\n",
    "df = DataFrame(dict)\n",
    "df"
   ]
  },
  {
   "cell_type": "code",
   "execution_count": 11,
   "metadata": {},
   "outputs": [
    {
     "data": {
      "text/plain": [
       "'sccess'"
      ]
     },
     "execution_count": 11,
     "metadata": {},
     "output_type": "execute_result"
    }
   ],
   "source": [
    "df.to_excel(r'./jsonExcel/output.xlsx', 'output', index=False, header=False) # 命名工作表为'output',并不导入行列索引\n",
    "'sccess'"
   ]
  },
  {
   "cell_type": "code",
   "execution_count": 12,
   "metadata": {},
   "outputs": [
    {
     "data": {
      "text/plain": [
       "'sccess'"
      ]
     },
     "execution_count": 12,
     "metadata": {},
     "output_type": "execute_result"
    }
   ],
   "source": [
    "df.to_excel(r'./jsonExcel/output.xlsx', 'output2', index=False, header=False) # 无法再次在原基础上追加数据\n",
    "'sccess'"
   ]
  },
  {
   "cell_type": "markdown",
   "metadata": {},
   "source": [
    "## 2.写入多个Sheet到同一个Excel中"
   ]
  },
  {
   "cell_type": "code",
   "execution_count": 13,
   "metadata": {},
   "outputs": [],
   "source": [
    "from openpyxl import load_workbook"
   ]
  },
  {
   "cell_type": "code",
   "execution_count": 14,
   "metadata": {},
   "outputs": [],
   "source": [
    "dict1=[('人工智能','992005','杨海东','90'),('人工智能','992032','王文华','87'),('人工智能','992089','金祥','90')]\n",
    "df1 = DataFrame(dict1)\n",
    "dict2=[('多媒体技术','992005','杨海东','89'),('多媒体技术','992032','王文华','84'),('多媒体技术','992089','金祥','79')]\n",
    "df2 = DataFrame(dict2)\n",
    "dict3=[('计算机图形学','992005','杨海东','76'),('计算机图形学','992032','王文华','88'),('计算机图形学','992089','金祥','82')]\n",
    "df3 = DataFrame(dict3)"
   ]
  },
  {
   "cell_type": "code",
   "execution_count": 15,
   "metadata": {},
   "outputs": [],
   "source": [
    "writer = pd.ExcelWriter(r'./jsonExcel/output.xlsx') # 可以向Writer中写入不同的工作表"
   ]
  },
  {
   "cell_type": "code",
   "execution_count": 16,
   "metadata": {},
   "outputs": [
    {
     "data": {
      "text/plain": [
       "'sccess'"
      ]
     },
     "execution_count": 16,
     "metadata": {},
     "output_type": "execute_result"
    }
   ],
   "source": [
    "df1.to_excel(writer, sheet_name='人工智能', index=False, header=False)\n",
    "df2.to_excel(writer, sheet_name='多媒体技术', index=False, header=False)\n",
    "df3.to_excel(writer, sheet_name='计算机图形学', index=False, header=False)\n",
    "'sccess'"
   ]
  },
  {
   "cell_type": "code",
   "execution_count": 17,
   "metadata": {},
   "outputs": [],
   "source": [
    "writer.save() # 保存文件\n",
    "writer.close() # 关闭"
   ]
  }
 ],
 "metadata": {
  "kernelspec": {
   "display_name": "Python 3",
   "language": "python",
   "name": "python3"
  },
  "language_info": {
   "codemirror_mode": {
    "name": "ipython",
    "version": 3
   },
   "file_extension": ".py",
   "mimetype": "text/x-python",
   "name": "python",
   "nbconvert_exporter": "python",
   "pygments_lexer": "ipython3",
   "version": "3.7.3"
  }
 },
 "nbformat": 4,
 "nbformat_minor": 2
}
