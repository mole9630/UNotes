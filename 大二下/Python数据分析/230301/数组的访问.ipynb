{
 "cells": [
  {
   "cell_type": "markdown",
   "metadata": {},
   "source": [
    "#  整数访问"
   ]
  },
  {
   "cell_type": "code",
   "execution_count": 16,
   "metadata": {},
   "outputs": [],
   "source": [
    "import numpy as np"
   ]
  },
  {
   "cell_type": "code",
   "execution_count": 17,
   "metadata": {},
   "outputs": [
    {
     "name": "stdout",
     "output_type": "stream",
     "text": [
      "[1 2 3 4 5 6]\n",
      "3\n"
     ]
    }
   ],
   "source": [
    "arr_1d = np.arange(1, 7)\n",
    "print(arr_1d)\n",
    "print(arr_1d[2])"
   ]
  },
  {
   "cell_type": "code",
   "execution_count": 18,
   "metadata": {},
   "outputs": [
    {
     "name": "stdout",
     "output_type": "stream",
     "text": [
      "[[1 2 3]\n",
      " [4 5 6]]\n",
      "[4 5 6]\n"
     ]
    }
   ],
   "source": [
    "arr_2d = np.arange(1, 7).reshape(2, 3)\n",
    "print(arr_2d)\n",
    "print(arr_2d[1])"
   ]
  },
  {
   "cell_type": "markdown",
   "metadata": {},
   "source": [
    "## 使用索引访问元素"
   ]
  },
  {
   "cell_type": "markdown",
   "metadata": {},
   "source": [
    "二维数组[行索引, 列索引], 访问二维数组单个元素"
   ]
  },
  {
   "cell_type": "code",
   "execution_count": 19,
   "metadata": {},
   "outputs": [
    {
     "name": "stdout",
     "output_type": "stream",
     "text": [
      "6\n"
     ]
    }
   ],
   "source": [
    "print(arr_2d[1, 2])"
   ]
  },
  {
   "cell_type": "markdown",
   "metadata": {},
   "source": [
    "## 使用切片访问数组"
   ]
  },
  {
   "cell_type": "markdown",
   "metadata": {},
   "source": [
    "### 切片访问一维数组"
   ]
  },
  {
   "cell_type": "code",
   "execution_count": 20,
   "metadata": {},
   "outputs": [
    {
     "name": "stdout",
     "output_type": "stream",
     "text": [
      "[20 30]\n",
      "[10 20 30]\n",
      "[10 20 30 40 50]\n",
      "[10 30 50]\n"
     ]
    }
   ],
   "source": [
    "arr_1d = np.array([10, 20, 30, 40 ,50, 60])\n",
    "print(arr_1d[1:3])\n",
    "print(arr_1d[:3])\n",
    "print(arr_1d[:-1])\n",
    "print(arr_1d[::2])"
   ]
  },
  {
   "cell_type": "markdown",
   "metadata": {},
   "source": [
    "## 切片访问二维数组"
   ]
  },
  {
   "cell_type": "code",
   "execution_count": 21,
   "metadata": {
    "scrolled": false
   },
   "outputs": [
    {
     "name": "stdout",
     "output_type": "stream",
     "text": [
      "[[1 2 3]\n",
      " [4 5 6]]\n",
      "---------------\n",
      "[[1]\n",
      " [4]]\n",
      "---------------\n",
      "[1 4]\n",
      "---------------\n",
      "[1 4]\n"
     ]
    }
   ],
   "source": [
    "arr_2d = np.array([[1, 2, 3], [4, 5, 6], [7, 8, 9]])\n",
    "print(arr_2d[:2])\n",
    "print(\"---------------\")\n",
    "print(arr_2d[:2, 0:1]) # 访问前两行, 第一列的元素\n",
    "print(\"---------------\")\n",
    "print(arr_2d[:2, 0]) # 返回的是一维数组\n",
    "print(\"---------------\")\n",
    "print(arr_2d[:2, 0])"
   ]
  },
  {
   "cell_type": "code",
   "execution_count": 22,
   "metadata": {},
   "outputs": [
    {
     "name": "stdout",
     "output_type": "stream",
     "text": [
      "[[ 2  4]\n",
      " [10 12]]\n"
     ]
    }
   ],
   "source": [
    "arr_2d = np.array([[1, 2, 3, 4], [5, 6, 7, 8], [9, 10, 11, 12]])\n",
    "print(arr_2d[::2, 1::2])"
   ]
  },
  {
   "cell_type": "markdown",
   "metadata": {},
   "source": [
    "### 练习"
   ]
  },
  {
   "cell_type": "code",
   "execution_count": 23,
   "metadata": {},
   "outputs": [
    {
     "name": "stdout",
     "output_type": "stream",
     "text": [
      "[[ 1  3  5  7]\n",
      " [ 2  4  6  8]\n",
      " [10 11 12 13]]\n",
      "---------------\n",
      "[6 8]\n",
      "---------------\n",
      "[[ 6  8]\n",
      " [12 13]]\n",
      "---------------\n",
      "[ 5  8 12]\n",
      "---------------\n",
      "[[ 2  8]\n",
      " [10 13]]\n"
     ]
    }
   ],
   "source": [
    "arr = np.array([[1, 3, 5, 7], [2, 4, 6, 8], [10, 11, 12, 13]])\n",
    "print(arr)\n",
    "print(\"---------------\")\n",
    "print(arr[1, 2:5])\n",
    "print(\"---------------\")\n",
    "print(arr[1:, 2:])\n",
    "print(\"---------------\")\n",
    "print(arr[[0, 1, 2], [2, 3, 2]])\n",
    "print(\"---------------\")\n",
    "print(arr[1:, (0, 3)]) # 索引第二,三行, 第一,四列"
   ]
  },
  {
   "cell_type": "code",
   "execution_count": 24,
   "metadata": {},
   "outputs": [
    {
     "name": "stdout",
     "output_type": "stream",
     "text": [
      "[2 4 6 8]\n",
      "[ 5  6 12]\n",
      "[[ 3  5]\n",
      " [ 4  6]\n",
      " [11 12]]\n",
      "[[ 6  8]\n",
      " [12 13]]\n",
      "[[ 1  5]\n",
      " [10 12]]\n"
     ]
    }
   ],
   "source": [
    "print(arr[1, :]) # 2 4 6 8\n",
    "print(arr[:, 2]) # 5, 6, 12\n",
    "print(arr[:, 1:3]) # 3 ,5 4, 6 11, 12\n",
    "print(arr[-2:, -2:]) # 6, 8 12, 13\n",
    "print(arr[::2, ::2]) # 1, 5 10, 12"
   ]
  },
  {
   "cell_type": "code",
   "execution_count": 25,
   "metadata": {},
   "outputs": [
    {
     "name": "stdout",
     "output_type": "stream",
     "text": [
      "[ True False  True]\n",
      "[ 5 12]\n"
     ]
    }
   ],
   "source": [
    "mask = np.array([1, 0, 1], dtype = np.bool)\n",
    "print(mask)\n",
    "print(arr[mask, 2]) # 利用布尔索引确定1,3行, 然后第三列元素"
   ]
  },
  {
   "cell_type": "markdown",
   "metadata": {},
   "source": [
    "## 使用花式索引访问一维数组"
   ]
  },
  {
   "cell_type": "code",
   "execution_count": 26,
   "metadata": {},
   "outputs": [
    {
     "name": "stdout",
     "output_type": "stream",
     "text": [
      "[1 2 3 4 5 6 7 8 9]\n",
      "[3 6 9]\n"
     ]
    }
   ],
   "source": [
    "arr_1d = np.arange(1, 10)\n",
    "print(arr_1d)\n",
    "print(arr_1d[[2, 5, 8]]) # 以列表作为索引"
   ]
  },
  {
   "cell_type": "markdown",
   "metadata": {},
   "source": [
    "## 使用花式索引访问二维数组"
   ]
  },
  {
   "cell_type": "code",
   "execution_count": 27,
   "metadata": {},
   "outputs": [
    {
     "name": "stdout",
     "output_type": "stream",
     "text": [
      "[[1 2 3]\n",
      " [4 5 6]\n",
      " [7 8 9]]\n",
      "---------------\n",
      "[[1 2 3]\n",
      " [7 8 9]]\n",
      "---------------\n",
      "[2 8]\n"
     ]
    }
   ],
   "source": [
    "arr_2d = np.arange(1, 10).reshape(3, 3)\n",
    "print(arr_2d)\n",
    "print(\"---------------\")\n",
    "print(arr_2d[[0, 2]])\n",
    "print(\"---------------\")\n",
    "print(arr_2d[[0, 2], [1, 1]]) # 二维数组[花式索引, 花式索引]"
   ]
  },
  {
   "cell_type": "markdown",
   "metadata": {},
   "source": [
    "## 使用布尔索引访问元素"
   ]
  },
  {
   "cell_type": "code",
   "execution_count": 28,
   "metadata": {},
   "outputs": [
    {
     "name": "stdout",
     "output_type": "stream",
     "text": [
      "[[False False False]\n",
      " [False False  True]\n",
      " [ True  True  True]]\n",
      "---------------\n",
      "[6 7 8 9]\n"
     ]
    }
   ],
   "source": [
    "print(arr_2d > 5)\n",
    "print(\"---------------\")\n",
    "print(arr_2d[arr_2d > 5])"
   ]
  },
  {
   "cell_type": "markdown",
   "metadata": {},
   "source": [
    "## 变换数组形态"
   ]
  },
  {
   "cell_type": "markdown",
   "metadata": {},
   "source": [
    "### reshape与resize函数"
   ]
  },
  {
   "cell_type": "code",
   "execution_count": 29,
   "metadata": {},
   "outputs": [
    {
     "name": "stdout",
     "output_type": "stream",
     "text": [
      "[ 0  1  2  3  4  5  6  7  8  9 10 11 12 13 14 15]\n",
      "[[ 0  1  2  3  4  5  6  7]\n",
      " [ 8  9 10 11 12 13 14 15]]\n"
     ]
    }
   ],
   "source": [
    "arr_shape = np.arange(16)\n",
    "print(arr_shape)\n",
    "print(arr_shape.reshape(2, 8)) # reshape是生成一个副本, 并不会改变原来数据, 也不能改变元素的总个数"
   ]
  },
  {
   "cell_type": "code",
   "execution_count": 31,
   "metadata": {},
   "outputs": [
    {
     "name": "stdout",
     "output_type": "stream",
     "text": [
      "[ 0  1  2  3  4  5  6  7  8  9 10 11 12 13 14 15]\n",
      "[[ 0  1  2  3]\n",
      " [ 4  5  6  7]\n",
      " [ 8  9 10 11]\n",
      " [12 13 14 15]]\n",
      "[[ 0  1  2  3]\n",
      " [ 4  5  6  7]\n",
      " [ 8  9 10 11]]\n"
     ]
    }
   ],
   "source": [
    "arr_size = np.arange(16)\n",
    "print(arr_size)\n",
    "arr_size.resize(4, 4) # resize原地修改原数组\n",
    "print(arr_size)\n",
    "arr_size.resize(3, 4)\n",
    "print(arr_size)"
   ]
  },
  {
   "cell_type": "code",
   "execution_count": null,
   "metadata": {},
   "outputs": [],
   "source": []
  }
 ],
 "metadata": {
  "kernelspec": {
   "display_name": "Python 3",
   "language": "python",
   "name": "python3"
  },
  "language_info": {
   "codemirror_mode": {
    "name": "ipython",
    "version": 3
   },
   "file_extension": ".py",
   "mimetype": "text/x-python",
   "name": "python",
   "nbconvert_exporter": "python",
   "pygments_lexer": "ipython3",
   "version": "3.7.3"
  }
 },
 "nbformat": 4,
 "nbformat_minor": 2
}
