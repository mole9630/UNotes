{
 "cells": [
  {
   "cell_type": "markdown",
   "id": "b390645f",
   "metadata": {},
   "source": [
    "# 创建数组\n",
    "## 一 根据现有数据类型创建数组\n",
    "### 1.创建一维数组"
   ]
  },
  {
   "cell_type": "code",
   "execution_count": 1,
   "id": "e5a6aa7b",
   "metadata": {},
   "outputs": [],
   "source": [
    "import numpy as np"
   ]
  },
  {
   "cell_type": "code",
   "execution_count": 2,
   "id": "0aa19db1",
   "metadata": {},
   "outputs": [
    {
     "name": "stdout",
     "output_type": "stream",
     "text": [
      "[1 2 3]\n"
     ]
    }
   ],
   "source": [
    "array_1 = np.array([1, 2, 3])\n",
    "print(array_1)"
   ]
  },
  {
   "cell_type": "markdown",
   "id": "9f1fe12a",
   "metadata": {},
   "source": [
    "### 2.创建二维数组"
   ]
  },
  {
   "cell_type": "code",
   "execution_count": 3,
   "id": "790c09c4",
   "metadata": {},
   "outputs": [
    {
     "name": "stdout",
     "output_type": "stream",
     "text": [
      "[[1 2 3]\n",
      " [4 5 6]]\n"
     ]
    }
   ],
   "source": [
    "array_2 = np.array([[1, 2, 3], [4, 5, 6]])\n",
    "print(array_2)"
   ]
  },
  {
   "cell_type": "markdown",
   "id": "dbe1ae59",
   "metadata": {},
   "source": [
    "## 二 根据指定数值创建数组\n",
    "### 1.1 使用zeros()函数创建数组"
   ]
  },
  {
   "cell_type": "code",
   "execution_count": 4,
   "id": "c2451181",
   "metadata": {},
   "outputs": [
    {
     "name": "stdout",
     "output_type": "stream",
     "text": [
      "[[0. 0. 0.]\n",
      " [0. 0. 0.]]\n"
     ]
    }
   ],
   "source": [
    "array_zeros = np.zeros((2,3))\n",
    "print(array_zeros)"
   ]
  },
  {
   "cell_type": "markdown",
   "id": "4eae46a4",
   "metadata": {},
   "source": [
    "### 1.2 指定数据类型"
   ]
  },
  {
   "cell_type": "code",
   "execution_count": 5,
   "id": "c9914160",
   "metadata": {},
   "outputs": [
    {
     "name": "stdout",
     "output_type": "stream",
     "text": [
      "[[False False False]\n",
      " [False False False]]\n"
     ]
    }
   ],
   "source": [
    "array_zeros = np.zeros((2,3), dtype = bool)\n",
    "print(array_zeros)"
   ]
  },
  {
   "cell_type": "markdown",
   "id": "824e8625",
   "metadata": {},
   "source": [
    "### 2.1 使用ones()函数创建数组"
   ]
  },
  {
   "cell_type": "code",
   "execution_count": 6,
   "id": "09a4e7ac",
   "metadata": {},
   "outputs": [
    {
     "name": "stdout",
     "output_type": "stream",
     "text": [
      "[[1. 1. 1.]\n",
      " [1. 1. 1.]]\n"
     ]
    }
   ],
   "source": [
    "array_ones = np.ones((2,3))\n",
    "print(array_ones)"
   ]
  },
  {
   "cell_type": "markdown",
   "id": "ff197169",
   "metadata": {},
   "source": [
    "### 2.2 指定数据类型"
   ]
  },
  {
   "cell_type": "code",
   "execution_count": 7,
   "id": "cd77065e",
   "metadata": {},
   "outputs": [
    {
     "name": "stdout",
     "output_type": "stream",
     "text": [
      "[[ True  True  True]\n",
      " [ True  True  True]]\n"
     ]
    }
   ],
   "source": [
    "array_ones = np.ones((2,3), dtype = bool)\n",
    "print(array_ones)"
   ]
  },
  {
   "cell_type": "markdown",
   "id": "961ffcb3",
   "metadata": {},
   "source": [
    "### 3.使用()函数创建数组"
   ]
  },
  {
   "cell_type": "code",
   "execution_count": 8,
   "id": "97c7aa4d",
   "metadata": {},
   "outputs": [
    {
     "name": "stdout",
     "output_type": "stream",
     "text": [
      "[[0. 0. 0.]\n",
      " [0. 0. 0.]]\n"
     ]
    }
   ],
   "source": [
    "array_zeros = np.zeros((2,3))\n",
    "print(array_zeros)"
   ]
  },
  {
   "cell_type": "markdown",
   "id": "7ec25542",
   "metadata": {},
   "source": [
    "### 4.使用arange()函数创建数组"
   ]
  },
  {
   "cell_type": "code",
   "execution_count": 9,
   "id": "9078f926",
   "metadata": {},
   "outputs": [
    {
     "name": "stdout",
     "output_type": "stream",
     "text": [
      "[ 2  4  6  8 10]\n"
     ]
    }
   ],
   "source": [
    "array_demo = np.arange(2, 12, 2)\n",
    "print(array_demo)"
   ]
  },
  {
   "cell_type": "markdown",
   "id": "2f859dfa",
   "metadata": {},
   "source": [
    "## 三 shape()函数"
   ]
  },
  {
   "cell_type": "code",
   "execution_count": 10,
   "id": "dc0d41be",
   "metadata": {},
   "outputs": [
    {
     "name": "stdout",
     "output_type": "stream",
     "text": [
      "[ 2  4  6  8 10 12]\n"
     ]
    }
   ],
   "source": [
    "array_demo2 = np.arange(2, 14, 2)\n",
    "print(array_demo2)"
   ]
  },
  {
   "cell_type": "code",
   "execution_count": 11,
   "id": "2e1dcc02",
   "metadata": {},
   "outputs": [
    {
     "name": "stdout",
     "output_type": "stream",
     "text": [
      "[[ 2  4  6]\n",
      " [ 8 10 12]]\n"
     ]
    }
   ],
   "source": [
    "array_demo2.shape = 2, 3\n",
    "print(array_demo2)"
   ]
  },
  {
   "cell_type": "markdown",
   "id": "e9f9a76f",
   "metadata": {},
   "source": [
    "### 生成3行4列间隔为2的数组"
   ]
  },
  {
   "cell_type": "markdown",
   "id": "2aebe2b8",
   "metadata": {},
   "source": [
    "数组的新形状必须与原形状兼容, 满足\"新形状的行数 * 新形状的列数 = 元素的总数\""
   ]
  },
  {
   "cell_type": "code",
   "execution_count": 12,
   "id": "9e12feb8",
   "metadata": {},
   "outputs": [
    {
     "name": "stdout",
     "output_type": "stream",
     "text": [
      "[[ 2  4  6  8]\n",
      " [10 12 14 16]\n",
      " [18 20 22 24]]\n"
     ]
    }
   ],
   "source": [
    "array_demo3 = np.arange(2, 25, 2).reshape(3, 4)\n",
    "print(array_demo3)"
   ]
  },
  {
   "cell_type": "markdown",
   "id": "df3dd2cf",
   "metadata": {},
   "source": [
    "## 练习:查看数组形状、数据类型与元素个数"
   ]
  },
  {
   "cell_type": "code",
   "execution_count": 13,
   "id": "6252b0fe",
   "metadata": {},
   "outputs": [
    {
     "name": "stdout",
     "output_type": "stream",
     "text": [
      "1\n",
      "2\n"
     ]
    }
   ],
   "source": [
    "arr1 = np.array((1, 3, 5, 7, 9))\n",
    "arr2 = np.array([['a', 'b', 'c'], ['d', 'e', 'f']])\n",
    "print(arr1.ndim)\n",
    "print(arr2.ndim)"
   ]
  },
  {
   "cell_type": "code",
   "execution_count": 14,
   "id": "d7a6324f",
   "metadata": {
    "scrolled": false
   },
   "outputs": [
    {
     "name": "stdout",
     "output_type": "stream",
     "text": [
      "(5,)\n",
      "(2, 3)\n"
     ]
    }
   ],
   "source": [
    "# 查看数组形状\n",
    "print(arr1.shape)  # (5,)表示为1维数组, 共有5个元素\n",
    "print(arr2.shape)"
   ]
  },
  {
   "cell_type": "code",
   "execution_count": 15,
   "id": "6dd39b39",
   "metadata": {},
   "outputs": [
    {
     "name": "stdout",
     "output_type": "stream",
     "text": [
      "int32\n",
      "<U1\n"
     ]
    }
   ],
   "source": [
    "# 查看数组数据类型\n",
    "print(arr1.dtype)\n",
    "print(arr2.dtype)  # <U1表示无符号的8位整型"
   ]
  },
  {
   "cell_type": "code",
   "execution_count": 16,
   "id": "c566a796",
   "metadata": {},
   "outputs": [
    {
     "name": "stdout",
     "output_type": "stream",
     "text": [
      "5\n",
      "6\n"
     ]
    }
   ],
   "source": [
    "#查看数组元素个数\n",
    "print(arr1.size)\n",
    "print(arr2.size)"
   ]
  },
  {
   "cell_type": "markdown",
   "id": "b84bd495",
   "metadata": {},
   "source": [
    "### 将二维数组改成三行两列"
   ]
  },
  {
   "cell_type": "code",
   "execution_count": 17,
   "id": "ce5f97aa",
   "metadata": {},
   "outputs": [
    {
     "name": "stdout",
     "output_type": "stream",
     "text": [
      "[['a' 'b']\n",
      " ['c' 'd']\n",
      " ['e' 'f']]\n"
     ]
    }
   ],
   "source": [
    "arr2.shape = 3, 2\n",
    "print(arr2)"
   ]
  },
  {
   "cell_type": "markdown",
   "id": "709f042a",
   "metadata": {},
   "source": [
    "### 多种数据类型"
   ]
  },
  {
   "cell_type": "code",
   "execution_count": 18,
   "id": "9dcd1643",
   "metadata": {},
   "outputs": [
    {
     "name": "stdout",
     "output_type": "stream",
     "text": [
      "['1' 'a' '2']\n"
     ]
    }
   ],
   "source": [
    "arr3 = np.array([1, 'a', 2])\n",
    "print(arr3)"
   ]
  },
  {
   "cell_type": "markdown",
   "id": "eab4fe7d",
   "metadata": {},
   "source": [
    "## 四 使用特殊库函数(randam)"
   ]
  },
  {
   "cell_type": "code",
   "execution_count": 19,
   "id": "e674ffb2",
   "metadata": {},
   "outputs": [
    {
     "name": "stdout",
     "output_type": "stream",
     "text": [
      "[0.27468607 0.93194196 0.05789127 0.53082869 0.24211538 0.58538261\n",
      " 0.31853031 0.77669726 0.22807446 0.35535905]\n"
     ]
    }
   ],
   "source": [
    "# 生成n个0到1之间0(左闭右开)的随机浮点数数组\n",
    "arr_test = np.random.random(10)\n",
    "print(arr_test)"
   ]
  },
  {
   "cell_type": "markdown",
   "id": "7605ffe6",
   "metadata": {},
   "source": [
    "#### 转为2行5列"
   ]
  },
  {
   "cell_type": "code",
   "execution_count": 20,
   "id": "91b3e88f",
   "metadata": {},
   "outputs": [
    {
     "name": "stdout",
     "output_type": "stream",
     "text": [
      "[[0.27468607 0.93194196 0.05789127 0.53082869 0.24211538]\n",
      " [0.58538261 0.31853031 0.77669726 0.22807446 0.35535905]]\n"
     ]
    }
   ],
   "source": [
    "arr_test = arr_test.reshape(2, 5)\n",
    "print(arr_test)"
   ]
  },
  {
   "cell_type": "markdown",
   "id": "5a35fe4f",
   "metadata": {},
   "source": [
    "#### 转为5行2列"
   ]
  },
  {
   "cell_type": "code",
   "execution_count": 21,
   "id": "1d082419",
   "metadata": {},
   "outputs": [
    {
     "name": "stdout",
     "output_type": "stream",
     "text": [
      "[[0.27468607 0.93194196]\n",
      " [0.05789127 0.53082869]\n",
      " [0.24211538 0.58538261]\n",
      " [0.31853031 0.77669726]\n",
      " [0.22807446 0.35535905]]\n"
     ]
    }
   ],
   "source": [
    "arr_test = arr_test.reshape(5, 2)\n",
    "print(arr_test)"
   ]
  },
  {
   "cell_type": "markdown",
   "id": "612dbaa2",
   "metadata": {},
   "source": [
    "### 1.均匀分布"
   ]
  },
  {
   "cell_type": "code",
   "execution_count": 22,
   "id": "b19e9037",
   "metadata": {},
   "outputs": [
    {
     "name": "stdout",
     "output_type": "stream",
     "text": [
      "[[0.67430556 0.57405201 0.37945584 0.60150776 0.93356707]\n",
      " [0.06530566 0.1336245  0.5118725  0.27377954 0.42414611]]\n"
     ]
    }
   ],
   "source": [
    "arr_test2 = np.random.rand(2, 5)\n",
    "print(arr_test2)"
   ]
  },
  {
   "cell_type": "markdown",
   "id": "a219e817",
   "metadata": {},
   "source": [
    "### 2.正态分布"
   ]
  },
  {
   "cell_type": "code",
   "execution_count": 23,
   "id": "4f56f1cf",
   "metadata": {},
   "outputs": [
    {
     "name": "stdout",
     "output_type": "stream",
     "text": [
      "[[ 1.86288807 -0.55798705  1.1360355   1.25113007  0.32633903]\n",
      " [ 0.20223968  0.38181154 -0.8729328  -0.21405599 -0.2481962 ]]\n"
     ]
    }
   ],
   "source": [
    "arr_test3 = np.random.randn(2, 5)\n",
    "print(arr_test3)"
   ]
  },
  {
   "cell_type": "markdown",
   "id": "a2cc9acc",
   "metadata": {},
   "source": [
    "### 3.生成整型随机数"
   ]
  },
  {
   "cell_type": "markdown",
   "id": "2cd6f1ac",
   "metadata": {},
   "source": [
    "可以生成给定上下限范围的随机整数"
   ]
  },
  {
   "cell_type": "code",
   "execution_count": 24,
   "id": "b39bb997",
   "metadata": {},
   "outputs": [
    {
     "name": "stdout",
     "output_type": "stream",
     "text": [
      "[[3 4 3]\n",
      " [2 2 2]]\n"
     ]
    }
   ],
   "source": [
    "arr_test4 = np.random.randint(2, 5, size=(2,3))\n",
    "print(arr_test4)"
   ]
  }
 ],
 "metadata": {
  "kernelspec": {
   "display_name": "Python 3 (ipykernel)",
   "language": "python",
   "name": "python3"
  },
  "language_info": {
   "codemirror_mode": {
    "name": "ipython",
    "version": 3
   },
   "file_extension": ".py",
   "mimetype": "text/x-python",
   "name": "python",
   "nbconvert_exporter": "python",
   "pygments_lexer": "ipython3",
   "version": "3.9.13"
  }
 },
 "nbformat": 4,
 "nbformat_minor": 5
}
