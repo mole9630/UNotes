{
 "cells": [
  {
   "cell_type": "code",
   "execution_count": 1,
   "metadata": {},
   "outputs": [],
   "source": [
    "import numpy as np\n",
    "import pandas as pd\n",
    "from pandas import Series,DataFrame"
   ]
  },
  {
   "cell_type": "code",
   "execution_count": 2,
   "metadata": {},
   "outputs": [],
   "source": [
    "def box_outliers(ser):\n",
    "    new_ser = ser.sort_values()# 对待检测的数据集进行排序\n",
    "    if new_ser.count() % 2 == 0: # 判断数据的总数量是奇数还是偶数\n",
    "        # 计算Q3、Q1、IQR\n",
    "        Q3 = new_ser[int(len(new_ser) / 2):].median()\n",
    "        Q1 = new_ser[:int(len(new_ser) / 2)].median()\n",
    "    elif new_ser.count() % 2 != 0:\n",
    "        Q3 = new_ser[int((len(new_ser)-1) / 2):].median()\n",
    "        Q1 = new_ser[:int((len(new_ser)-1) / 2)].median()\n",
    "    IQR = round(Q3 - Q1, 1)\n",
    "    rule = (round(Q3+1.5*IQR, 1) < ser)|(round(Q1-1.5*IQR, 1) > ser)\n",
    "    index = np.arange(ser.shape[0])[rule]\n",
    "    # 获取异常值及其索引\n",
    "    outliers = ser.iloc[index]\n",
    "    return outliers"
   ]
  },
  {
   "cell_type": "code",
   "execution_count": 3,
   "metadata": {},
   "outputs": [
    {
     "data": {
      "text/html": [
       "<div>\n",
       "<style scoped>\n",
       "    .dataframe tbody tr th:only-of-type {\n",
       "        vertical-align: middle;\n",
       "    }\n",
       "\n",
       "    .dataframe tbody tr th {\n",
       "        vertical-align: top;\n",
       "    }\n",
       "\n",
       "    .dataframe thead th {\n",
       "        text-align: right;\n",
       "    }\n",
       "</style>\n",
       "<table border=\"1\" class=\"dataframe\">\n",
       "  <thead>\n",
       "    <tr style=\"text-align: right;\">\n",
       "      <th></th>\n",
       "      <th>区</th>\n",
       "      <th>小区名称</th>\n",
       "      <th>标题</th>\n",
       "      <th>房屋信息</th>\n",
       "      <th>关注</th>\n",
       "      <th>地铁</th>\n",
       "      <th>单价(元/平米)</th>\n",
       "    </tr>\n",
       "  </thead>\n",
       "  <tbody>\n",
       "    <tr>\n",
       "      <th>0</th>\n",
       "      <td>锦江</td>\n",
       "      <td>翡翠城四期</td>\n",
       "      <td>翡翠城四期跃层 采光视野好 可看沙河 客厅带有阳台</td>\n",
       "      <td>高楼层(共29层)| 2009年建 |2室1厅 | 85.21平米 | 东南</td>\n",
       "      <td>331人关注/ 5月前发布</td>\n",
       "      <td>近地铁</td>\n",
       "      <td>176036.0</td>\n",
       "    </tr>\n",
       "    <tr>\n",
       "      <th>1</th>\n",
       "      <td>锦江</td>\n",
       "      <td>时代豪庭一期</td>\n",
       "      <td>时代豪庭套三 中间楼层 有装修 业主处理资产出售</td>\n",
       "      <td>中楼层(共38层)| 2009年建 |3室1厅 | 155.79平米| 东南</td>\n",
       "      <td>137人关注/ 5月前发布</td>\n",
       "      <td>NaN</td>\n",
       "      <td>26959.4</td>\n",
       "    </tr>\n",
       "    <tr>\n",
       "      <th>2</th>\n",
       "      <td>锦江</td>\n",
       "      <td>卓锦城六期</td>\n",
       "      <td>卓锦城六期紫郡房源，套三，进门带入户</td>\n",
       "      <td>中楼层(共31层)| 2014年建 |3室1厅 | 89.33平米| 西南</td>\n",
       "      <td>36人关注 / 23天前发布</td>\n",
       "      <td>NaN</td>\n",
       "      <td>22612.8</td>\n",
       "    </tr>\n",
       "    <tr>\n",
       "      <th>3</th>\n",
       "      <td>锦江</td>\n",
       "      <td>星城银座</td>\n",
       "      <td>春熙路太古里标准套一出售，现租给民宿。</td>\n",
       "      <td>高楼层(共11层) | 2003年建 | 1室0厅 | 51.07平米 | 南</td>\n",
       "      <td>29人关注 / 5月前发布</td>\n",
       "      <td>近地铁</td>\n",
       "      <td>18014.5</td>\n",
       "    </tr>\n",
       "    <tr>\n",
       "      <th>4</th>\n",
       "      <td>锦江</td>\n",
       "      <td>新莲新苑</td>\n",
       "      <td>新莲新苑优质套三，诚心出售，近沙河，采光视野好。</td>\n",
       "      <td>高楼层(共7层) | 2001年建 | 3室1厅 | 77.7平米 | 东南</td>\n",
       "      <td>14人关注 / 5月前发布</td>\n",
       "      <td>NaN</td>\n",
       "      <td>13513.5</td>\n",
       "    </tr>\n",
       "  </tbody>\n",
       "</table>\n",
       "</div>"
      ],
      "text/plain": [
       "    区    小区名称                         标题  \\\n",
       "0  锦江   翡翠城四期  翡翠城四期跃层 采光视野好 可看沙河 客厅带有阳台   \n",
       "1  锦江  时代豪庭一期   时代豪庭套三 中间楼层 有装修 业主处理资产出售   \n",
       "2  锦江   卓锦城六期         卓锦城六期紫郡房源，套三，进门带入户   \n",
       "3  锦江    星城银座        春熙路太古里标准套一出售，现租给民宿。   \n",
       "4  锦江    新莲新苑   新莲新苑优质套三，诚心出售，近沙河，采光视野好。   \n",
       "\n",
       "                                      房屋信息              关注   地铁  单价(元/平米)  \n",
       "0   高楼层(共29层)| 2009年建 |2室1厅 | 85.21平米 | 东南   331人关注/ 5月前发布  近地铁  176036.0  \n",
       "1   中楼层(共38层)| 2009年建 |3室1厅 | 155.79平米| 东南   137人关注/ 5月前发布  NaN   26959.4  \n",
       "2    中楼层(共31层)| 2014年建 |3室1厅 | 89.33平米| 西南  36人关注 / 23天前发布  NaN   22612.8  \n",
       "3  高楼层(共11层) | 2003年建 | 1室0厅 | 51.07平米 | 南   29人关注 / 5月前发布  近地铁   18014.5  \n",
       "4   高楼层(共7层) | 2001年建 | 3室1厅 | 77.7平米 | 东南   14人关注 / 5月前发布  NaN   13513.5  "
      ]
     },
     "execution_count": 3,
     "metadata": {},
     "output_type": "execute_result"
    }
   ],
   "source": [
    "second_hand_house = pd.read_excel(r'./data/handroom.xlsx')\n",
    "second_hand_house.head()"
   ]
  },
  {
   "cell_type": "code",
   "execution_count": 4,
   "metadata": {},
   "outputs": [
    {
     "name": "stdout",
     "output_type": "stream",
     "text": [
      "<class 'pandas.core.frame.DataFrame'>\n",
      "RangeIndex: 1058 entries, 0 to 1057\n",
      "Data columns (total 7 columns):\n",
      "区           1058 non-null object\n",
      "小区名称        1057 non-null object\n",
      "标题          1058 non-null object\n",
      "房屋信息        1058 non-null object\n",
      "关注          1058 non-null object\n",
      "地铁          441 non-null object\n",
      "单价(元/平米)    1058 non-null float64\n",
      "dtypes: float64(1), object(6)\n",
      "memory usage: 57.9+ KB\n"
     ]
    }
   ],
   "source": [
    "second_hand_house.info() # 查看摘要信息"
   ]
  },
  {
   "cell_type": "code",
   "execution_count": 5,
   "metadata": {},
   "outputs": [
    {
     "data": {
      "text/plain": [
       "区             0\n",
       "小区名称          0\n",
       "标题            0\n",
       "房屋信息          0\n",
       "关注            0\n",
       "地铁          616\n",
       "单价(元/平米)      0\n",
       "dtype: int64"
      ]
     },
     "execution_count": 5,
     "metadata": {},
     "output_type": "execute_result"
    }
   ],
   "source": [
    "second_hand_house = second_hand_house.dropna(subset=['小区名称']) # subset:表示删除指令列中包含有缺失值的一行数据\n",
    "second_hand_house.isnull().sum()"
   ]
  },
  {
   "cell_type": "code",
   "execution_count": 6,
   "metadata": {},
   "outputs": [
    {
     "data": {
      "text/plain": [
       "0    False\n",
       "1    False\n",
       "2    False\n",
       "3    False\n",
       "4    False\n",
       "dtype: bool"
      ]
     },
     "execution_count": 6,
     "metadata": {},
     "output_type": "execute_result"
    }
   ],
   "source": [
    "second_hand_house.duplicated().head() # 检查重复值"
   ]
  },
  {
   "cell_type": "code",
   "execution_count": 7,
   "metadata": {},
   "outputs": [
    {
     "data": {
      "text/html": [
       "<div>\n",
       "<style scoped>\n",
       "    .dataframe tbody tr th:only-of-type {\n",
       "        vertical-align: middle;\n",
       "    }\n",
       "\n",
       "    .dataframe tbody tr th {\n",
       "        vertical-align: top;\n",
       "    }\n",
       "\n",
       "    .dataframe thead th {\n",
       "        text-align: right;\n",
       "    }\n",
       "</style>\n",
       "<table border=\"1\" class=\"dataframe\">\n",
       "  <thead>\n",
       "    <tr style=\"text-align: right;\">\n",
       "      <th></th>\n",
       "      <th>区</th>\n",
       "      <th>小区名称</th>\n",
       "      <th>标题</th>\n",
       "      <th>房屋信息</th>\n",
       "      <th>关注</th>\n",
       "      <th>地铁</th>\n",
       "      <th>单价(元/平米)</th>\n",
       "    </tr>\n",
       "  </thead>\n",
       "  <tbody>\n",
       "    <tr>\n",
       "      <th>54</th>\n",
       "      <td>锦江</td>\n",
       "      <td>柳江新居五期</td>\n",
       "      <td>琉璃场柳江新居五期带装修套二，房东诚心出售</td>\n",
       "      <td>低楼层(共18层) | 2010年建 | 2室1厅 | 80.97平米 | 南 北</td>\n",
       "      <td>58人关注 / 3月前发布</td>\n",
       "      <td>近地铁</td>\n",
       "      <td>13832.3</td>\n",
       "    </tr>\n",
       "    <tr>\n",
       "      <th>55</th>\n",
       "      <td>锦江</td>\n",
       "      <td>锦洲花园</td>\n",
       "      <td>此房是锦洲花园中庭跃层，顶楼带大花园</td>\n",
       "      <td>高楼层(共6层) | 2004年建 | 3室2厅 | 124.68平米 | 西北</td>\n",
       "      <td>135人关注 / 5月前发布</td>\n",
       "      <td>NaN</td>\n",
       "      <td>19890.9</td>\n",
       "    </tr>\n",
       "    <tr>\n",
       "      <th>97</th>\n",
       "      <td>锦江</td>\n",
       "      <td>澳龙名城</td>\n",
       "      <td>澳龙名城标准套四双卫随时可看房！</td>\n",
       "      <td>低楼层(共16层) | 2009年建 | 4室2厅 | 116.58平米 | 东南 西北</td>\n",
       "      <td>95人关注 / 8月前发布</td>\n",
       "      <td>近地铁</td>\n",
       "      <td>25561.8</td>\n",
       "    </tr>\n",
       "    <tr>\n",
       "      <th>98</th>\n",
       "      <td>锦江</td>\n",
       "      <td>嘉和园二期</td>\n",
       "      <td>锦江 川师 狮子山 嘉和园 套二出售</td>\n",
       "      <td>低楼层(共6层) | 2002年建 | 2室2厅 | 74平米 | 东</td>\n",
       "      <td>19人关注 / 8月前发布</td>\n",
       "      <td>近地铁</td>\n",
       "      <td>12567.6</td>\n",
       "    </tr>\n",
       "    <tr>\n",
       "      <th>99</th>\n",
       "      <td>锦江</td>\n",
       "      <td>钢管厂五区</td>\n",
       "      <td>海椒市街15号标准套二，户型方正不临街。</td>\n",
       "      <td>高楼层(共7层) | 1988年建 | 2室1厅 | 82平米 | 东南</td>\n",
       "      <td>60人关注 / 1年前发布</td>\n",
       "      <td>NaN</td>\n",
       "      <td>11097.6</td>\n",
       "    </tr>\n",
       "  </tbody>\n",
       "</table>\n",
       "</div>"
      ],
      "text/plain": [
       "     区    小区名称                     标题  \\\n",
       "54  锦江  柳江新居五期  琉璃场柳江新居五期带装修套二，房东诚心出售   \n",
       "55  锦江    锦洲花园     此房是锦洲花园中庭跃层，顶楼带大花园   \n",
       "97  锦江    澳龙名城       澳龙名城标准套四双卫随时可看房！   \n",
       "98  锦江   嘉和园二期     锦江 川师 狮子山 嘉和园 套二出售   \n",
       "99  锦江   钢管厂五区   海椒市街15号标准套二，户型方正不临街。   \n",
       "\n",
       "                                            房屋信息              关注   地铁  \\\n",
       "54     低楼层(共18层) | 2010年建 | 2室1厅 | 80.97平米 | 南 北   58人关注 / 3月前发布  近地铁   \n",
       "55      高楼层(共6层) | 2004年建 | 3室2厅 | 124.68平米 | 西北  135人关注 / 5月前发布  NaN   \n",
       "97  低楼层(共16层) | 2009年建 | 4室2厅 | 116.58平米 | 东南 西北   95人关注 / 8月前发布  近地铁   \n",
       "98           低楼层(共6层) | 2002年建 | 2室2厅 | 74平米 | 东   19人关注 / 8月前发布  近地铁   \n",
       "99          高楼层(共7层) | 1988年建 | 2室1厅 | 82平米 | 东南   60人关注 / 1年前发布  NaN   \n",
       "\n",
       "    单价(元/平米)  \n",
       "54   13832.3  \n",
       "55   19890.9  \n",
       "97   25561.8  \n",
       "98   12567.6  \n",
       "99   11097.6  "
      ]
     },
     "execution_count": 7,
     "metadata": {},
     "output_type": "execute_result"
    }
   ],
   "source": [
    "second_hand_house[second_hand_house.duplicated().values==True].head()"
   ]
  },
  {
   "cell_type": "code",
   "execution_count": 8,
   "metadata": {},
   "outputs": [],
   "source": [
    "second_hand_house = second_hand_house.drop_duplicates() # 删除重复数据"
   ]
  },
  {
   "cell_type": "code",
   "execution_count": 9,
   "metadata": {},
   "outputs": [],
   "source": [
    "from matplotlib import pyplot as plt\n",
    "plt.rcParams['font.sans-serif'] = ['SimHei'] # 为显示中文"
   ]
  },
  {
   "cell_type": "code",
   "execution_count": 10,
   "metadata": {},
   "outputs": [
    {
     "data": {
      "text/plain": [
       "<matplotlib.axes._subplots.AxesSubplot at 0x4fb7ec4b38>"
      ]
     },
     "execution_count": 10,
     "metadata": {},
     "output_type": "execute_result"
    },
    {
     "data": {
      "image/png": "[encoded data removed]",
      "text/plain": [
       "<Figure size 432x288 with 1 Axes>"
      ]
     },
     "metadata": {
      "needs_background": "light"
     },
     "output_type": "display_data"
    }
   ],
   "source": [
    "second_hand_house.boxplot(column='单价(元/平米)')"
   ]
  },
  {
   "cell_type": "code",
   "execution_count": 11,
   "metadata": {},
   "outputs": [
    {
     "data": {
      "text/plain": [
       "0      176036.0\n",
       "6       43299.0\n",
       "11      39690.4\n",
       "51      39071.1\n",
       "130     36633.0\n",
       "134     49306.8\n",
       "136     37391.3\n",
       "181     39473.7\n",
       "222     36622.4\n",
       "235     36565.8\n",
       "316     37512.1\n",
       "323     36492.4\n",
       "336     40955.2\n",
       "370     36931.8\n",
       "394     39433.8\n",
       "519     42639.5\n",
       "538     40828.2\n",
       "662     38755.4\n",
       "707     37810.4\n",
       "713     44451.8\n",
       "736     38530.9\n",
       "889     36958.1\n",
       "894     39776.6\n",
       "927     42319.1\n",
       "933     36811.2\n",
       "Name: 单价(元/平米), dtype: float64"
      ]
     },
     "execution_count": 11,
     "metadata": {},
     "output_type": "execute_result"
    }
   ],
   "source": [
    "box_outliers(second_hand_house['单价(元/平米)'])"
   ]
  },
  {
   "cell_type": "code",
   "execution_count": 12,
   "metadata": {},
   "outputs": [],
   "source": [
    "second_hand_house = second_hand_house.replace(to_replace=176036.0, value=17603.6)"
   ]
  },
  {
   "cell_type": "code",
   "execution_count": 13,
   "metadata": {},
   "outputs": [
    {
     "data": {
      "text/html": [
       "<div>\n",
       "<style scoped>\n",
       "    .dataframe tbody tr th:only-of-type {\n",
       "        vertical-align: middle;\n",
       "    }\n",
       "\n",
       "    .dataframe tbody tr th {\n",
       "        vertical-align: top;\n",
       "    }\n",
       "\n",
       "    .dataframe thead th {\n",
       "        text-align: right;\n",
       "    }\n",
       "</style>\n",
       "<table border=\"1\" class=\"dataframe\">\n",
       "  <thead>\n",
       "    <tr style=\"text-align: right;\">\n",
       "      <th></th>\n",
       "      <th>区</th>\n",
       "      <th>小区名称</th>\n",
       "      <th>标题</th>\n",
       "      <th>房屋信息</th>\n",
       "      <th>关注</th>\n",
       "      <th>地铁</th>\n",
       "      <th>单价(元/平米)</th>\n",
       "    </tr>\n",
       "  </thead>\n",
       "  <tbody>\n",
       "    <tr>\n",
       "      <th>0</th>\n",
       "      <td>锦江</td>\n",
       "      <td>翡翠城四期</td>\n",
       "      <td>翡翠城四期跃层 采光视野好 可看沙河 客厅带有阳台</td>\n",
       "      <td>高楼层(共29层)| 2009年建 |2室1厅 | 85.21平米 | 东南</td>\n",
       "      <td>331人关注/ 5月前发布</td>\n",
       "      <td>近地铁</td>\n",
       "      <td>17603.6</td>\n",
       "    </tr>\n",
       "    <tr>\n",
       "      <th>1</th>\n",
       "      <td>锦江</td>\n",
       "      <td>时代豪庭一期</td>\n",
       "      <td>时代豪庭套三 中间楼层 有装修 业主处理资产出售</td>\n",
       "      <td>中楼层(共38层)| 2009年建 |3室1厅 | 155.79平米| 东南</td>\n",
       "      <td>137人关注/ 5月前发布</td>\n",
       "      <td>NaN</td>\n",
       "      <td>26959.4</td>\n",
       "    </tr>\n",
       "    <tr>\n",
       "      <th>2</th>\n",
       "      <td>锦江</td>\n",
       "      <td>卓锦城六期</td>\n",
       "      <td>卓锦城六期紫郡房源，套三，进门带入户</td>\n",
       "      <td>中楼层(共31层)| 2014年建 |3室1厅 | 89.33平米| 西南</td>\n",
       "      <td>36人关注 / 23天前发布</td>\n",
       "      <td>NaN</td>\n",
       "      <td>22612.8</td>\n",
       "    </tr>\n",
       "    <tr>\n",
       "      <th>3</th>\n",
       "      <td>锦江</td>\n",
       "      <td>星城银座</td>\n",
       "      <td>春熙路太古里标准套一出售，现租给民宿。</td>\n",
       "      <td>高楼层(共11层) | 2003年建 | 1室0厅 | 51.07平米 | 南</td>\n",
       "      <td>29人关注 / 5月前发布</td>\n",
       "      <td>近地铁</td>\n",
       "      <td>18014.5</td>\n",
       "    </tr>\n",
       "    <tr>\n",
       "      <th>4</th>\n",
       "      <td>锦江</td>\n",
       "      <td>新莲新苑</td>\n",
       "      <td>新莲新苑优质套三，诚心出售，近沙河，采光视野好。</td>\n",
       "      <td>高楼层(共7层) | 2001年建 | 3室1厅 | 77.7平米 | 东南</td>\n",
       "      <td>14人关注 / 5月前发布</td>\n",
       "      <td>NaN</td>\n",
       "      <td>13513.5</td>\n",
       "    </tr>\n",
       "  </tbody>\n",
       "</table>\n",
       "</div>"
      ],
      "text/plain": [
       "    区    小区名称                         标题  \\\n",
       "0  锦江   翡翠城四期  翡翠城四期跃层 采光视野好 可看沙河 客厅带有阳台   \n",
       "1  锦江  时代豪庭一期   时代豪庭套三 中间楼层 有装修 业主处理资产出售   \n",
       "2  锦江   卓锦城六期         卓锦城六期紫郡房源，套三，进门带入户   \n",
       "3  锦江    星城银座        春熙路太古里标准套一出售，现租给民宿。   \n",
       "4  锦江    新莲新苑   新莲新苑优质套三，诚心出售，近沙河，采光视野好。   \n",
       "\n",
       "                                      房屋信息              关注   地铁  单价(元/平米)  \n",
       "0   高楼层(共29层)| 2009年建 |2室1厅 | 85.21平米 | 东南   331人关注/ 5月前发布  近地铁   17603.6  \n",
       "1   中楼层(共38层)| 2009年建 |3室1厅 | 155.79平米| 东南   137人关注/ 5月前发布  NaN   26959.4  \n",
       "2    中楼层(共31层)| 2014年建 |3室1厅 | 89.33平米| 西南  36人关注 / 23天前发布  NaN   22612.8  \n",
       "3  高楼层(共11层) | 2003年建 | 1室0厅 | 51.07平米 | 南   29人关注 / 5月前发布  近地铁   18014.5  \n",
       "4   高楼层(共7层) | 2001年建 | 3室1厅 | 77.7平米 | 东南   14人关注 / 5月前发布  NaN   13513.5  "
      ]
     },
     "execution_count": 13,
     "metadata": {},
     "output_type": "execute_result"
    }
   ],
   "source": [
    "second_hand_house.head()"
   ]
  }
 ],
 "metadata": {
  "kernelspec": {
   "display_name": "Python 3",
   "language": "python",
   "name": "python3"
  },
  "language_info": {
   "codemirror_mode": {
    "name": "ipython",
    "version": 3
   },
   "file_extension": ".py",
   "mimetype": "text/x-python",
   "name": "python",
   "nbconvert_exporter": "python",
   "pygments_lexer": "ipython3",
   "version": "3.7.3"
  }
 },
 "nbformat": 4,
 "nbformat_minor": 2
}
