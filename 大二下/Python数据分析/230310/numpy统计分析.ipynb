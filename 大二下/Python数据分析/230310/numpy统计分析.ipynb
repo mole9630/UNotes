{
 "cells": [
  {
   "cell_type": "markdown",
   "id": "8c24b582",
   "metadata": {},
   "source": [
    "# 一.排序"
   ]
  },
  {
   "cell_type": "code",
   "execution_count": 1,
   "id": "a1716bdd",
   "metadata": {},
   "outputs": [],
   "source": [
    "import numpy as np"
   ]
  },
  {
   "cell_type": "markdown",
   "id": "ea63a5b6",
   "metadata": {},
   "source": [
    "## 1.间接排序 "
   ]
  },
  {
   "cell_type": "code",
   "execution_count": 2,
   "id": "3c5ea2f4",
   "metadata": {},
   "outputs": [
    {
     "data": {
      "text/plain": [
       "array([[ 6, 12,  7,  4],\n",
       "       [ 3, 12,  4,  8],\n",
       "       [12, 10,  2,  4]])"
      ]
     },
     "execution_count": 2,
     "metadata": {},
     "output_type": "execute_result"
    }
   ],
   "source": [
    "arr1 = np.random.randint(2, 15, size=(3,4))\n",
    "arr1"
   ]
  },
  {
   "cell_type": "code",
   "execution_count": 3,
   "id": "35180f8f",
   "metadata": {},
   "outputs": [
    {
     "data": {
      "text/plain": [
       "array([[3, 0, 2, 1],\n",
       "       [0, 2, 3, 1],\n",
       "       [2, 3, 1, 0]], dtype=int64)"
      ]
     },
     "execution_count": 3,
     "metadata": {},
     "output_type": "execute_result"
    }
   ],
   "source": [
    "arr1.argsort() # 排序后,元素从小到大排序后的索引数组"
   ]
  },
  {
   "cell_type": "code",
   "execution_count": 4,
   "id": "481e9ed0",
   "metadata": {},
   "outputs": [
    {
     "data": {
      "text/plain": [
       "array([2, 0, 1], dtype=int64)"
      ]
     },
     "execution_count": 4,
     "metadata": {},
     "output_type": "execute_result"
    }
   ],
   "source": [
    "arr1 = np.array([13, 25, 10])\n",
    "arr2 = np.array([45, 25, 30])\n",
    "ind = np.lexsort((arr2, arr1)) # 参数用括号包裹 越靠后优先级越高, 向左依次递减\n",
    "ind"
   ]
  },
  {
   "cell_type": "markdown",
   "id": "bb4d3ad1",
   "metadata": {},
   "source": [
    "## 2.去重"
   ]
  },
  {
   "cell_type": "code",
   "execution_count": 5,
   "id": "a9440be3",
   "metadata": {},
   "outputs": [
    {
     "data": {
      "text/plain": [
       "array(['玫瑰', '牡丹', '月季', '玫瑰', '水仙', '君子兰', '玫瑰', '满天星'], dtype='<U3')"
      ]
     },
     "execution_count": 5,
     "metadata": {},
     "output_type": "execute_result"
    }
   ],
   "source": [
    "flowers = np.array(['玫瑰', '牡丹', '月季', '玫瑰', '水仙', '君子兰', '玫瑰', '满天星'])\n",
    "flowers"
   ]
  },
  {
   "cell_type": "code",
   "execution_count": 6,
   "id": "754ad95e",
   "metadata": {},
   "outputs": [
    {
     "data": {
      "text/plain": [
       "(array(['君子兰', '月季', '水仙', '满天星', '牡丹', '玫瑰'], dtype='<U3'),\n",
       " array([5, 2, 4, 7, 1, 0], dtype=int64))"
      ]
     },
     "execution_count": 6,
     "metadata": {},
     "output_type": "execute_result"
    }
   ],
   "source": [
    "np.unique(flowers, return_index=True) # 去重函数返回唯一元素索引值"
   ]
  },
  {
   "cell_type": "code",
   "execution_count": 7,
   "id": "7759c65c",
   "metadata": {},
   "outputs": [
    {
     "data": {
      "text/plain": [
       "(array(['君子兰', '月季', '水仙', '满天星', '牡丹', '玫瑰'], dtype='<U3'),\n",
       " array([1, 1, 1, 1, 1, 3], dtype=int64))"
      ]
     },
     "execution_count": 7,
     "metadata": {},
     "output_type": "execute_result"
    }
   ],
   "source": [
    "np.unique(flowers, return_counts=True) # 去重函数返回元素出现的次数"
   ]
  },
  {
   "cell_type": "markdown",
   "id": "3257e3c0",
   "metadata": {},
   "source": [
    "## 3.创建重复数组"
   ]
  },
  {
   "cell_type": "code",
   "execution_count": 8,
   "id": "f14168ba",
   "metadata": {},
   "outputs": [
    {
     "data": {
      "text/plain": [
       "array([0, 1, 2])"
      ]
     },
     "execution_count": 8,
     "metadata": {},
     "output_type": "execute_result"
    }
   ],
   "source": [
    "arr1 = np.arange(3)\n",
    "arr1"
   ]
  },
  {
   "cell_type": "code",
   "execution_count": 9,
   "id": "d065d871",
   "metadata": {},
   "outputs": [
    {
     "data": {
      "text/plain": [
       "array([0, 1, 2, 0, 1, 2, 0, 1, 2])"
      ]
     },
     "execution_count": 9,
     "metadata": {},
     "output_type": "execute_result"
    }
   ],
   "source": [
    "np.tile(arr1, 3) # 对数组重复3次"
   ]
  },
  {
   "cell_type": "code",
   "execution_count": 10,
   "id": "48dd3a63",
   "metadata": {},
   "outputs": [
    {
     "data": {
      "text/plain": [
       "array([[15, 10,  6],\n",
       "       [13,  7,  9]])"
      ]
     },
     "execution_count": 10,
     "metadata": {},
     "output_type": "execute_result"
    }
   ],
   "source": [
    "arr2 = np.random.randint(2, 16, size=(2,3))\n",
    "arr2"
   ]
  },
  {
   "cell_type": "code",
   "execution_count": 11,
   "id": "ff814419",
   "metadata": {},
   "outputs": [
    {
     "data": {
      "text/plain": [
       "array([[15, 10,  6, 15, 10,  6, 15, 10,  6],\n",
       "       [13,  7,  9, 13,  7,  9, 13,  7,  9]])"
      ]
     },
     "execution_count": 11,
     "metadata": {},
     "output_type": "execute_result"
    }
   ],
   "source": [
    "np.tile(arr2, 3) # 对数组重复3次"
   ]
  },
  {
   "cell_type": "code",
   "execution_count": 12,
   "id": "22c86d41",
   "metadata": {},
   "outputs": [
    {
     "data": {
      "text/plain": [
       "array([0, 0, 0, 1, 1, 1, 2, 2, 2])"
      ]
     },
     "execution_count": 12,
     "metadata": {},
     "output_type": "execute_result"
    }
   ],
   "source": [
    "np.repeat(arr1, 3) # 对元素重复3次"
   ]
  },
  {
   "cell_type": "code",
   "execution_count": 13,
   "id": "b0a5d9c7",
   "metadata": {},
   "outputs": [
    {
     "data": {
      "text/plain": [
       "array([15, 15, 15, 10, 10, 10,  6,  6,  6, 13, 13, 13,  7,  7,  7,  9,  9,\n",
       "        9])"
      ]
     },
     "execution_count": 13,
     "metadata": {},
     "output_type": "execute_result"
    }
   ],
   "source": [
    "np.repeat(arr2, 3) # 对元素重复3次(不指定方向,返回一个一维数组)"
   ]
  },
  {
   "cell_type": "code",
   "execution_count": 14,
   "id": "bf66dd6b",
   "metadata": {},
   "outputs": [
    {
     "data": {
      "text/plain": [
       "array([[15, 10,  6],\n",
       "       [15, 10,  6],\n",
       "       [15, 10,  6],\n",
       "       [13,  7,  9],\n",
       "       [13,  7,  9],\n",
       "       [13,  7,  9]])"
      ]
     },
     "execution_count": 14,
     "metadata": {},
     "output_type": "execute_result"
    }
   ],
   "source": [
    "np.repeat(arr2, 3, axis=0) # 对元素重复3次(按照行进行重复)"
   ]
  },
  {
   "cell_type": "code",
   "execution_count": 15,
   "id": "5df495d0",
   "metadata": {},
   "outputs": [
    {
     "data": {
      "text/plain": [
       "array([[15, 15, 15, 10, 10, 10,  6,  6,  6],\n",
       "       [13, 13, 13,  7,  7,  7,  9,  9,  9]])"
      ]
     },
     "execution_count": 15,
     "metadata": {},
     "output_type": "execute_result"
    }
   ],
   "source": [
    "np.repeat(arr2, 3, axis=1) # 对元素重复3次(按照列进行重复)"
   ]
  },
  {
   "cell_type": "markdown",
   "id": "e2b0fe27",
   "metadata": {},
   "source": [
    "# 二.常用的统计函数"
   ]
  },
  {
   "cell_type": "code",
   "execution_count": 16,
   "id": "464a9fac",
   "metadata": {},
   "outputs": [
    {
     "data": {
      "text/plain": [
       "array([[1, 2, 3],\n",
       "       [4, 5, 6],\n",
       "       [7, 8, 9]])"
      ]
     },
     "execution_count": 16,
     "metadata": {},
     "output_type": "execute_result"
    }
   ],
   "source": [
    "arr1 = np.arange(1, 10).reshape(3, 3)\n",
    "arr1"
   ]
  },
  {
   "cell_type": "code",
   "execution_count": 17,
   "id": "bd4db407",
   "metadata": {},
   "outputs": [
    {
     "data": {
      "text/plain": [
       "9"
      ]
     },
     "execution_count": 17,
     "metadata": {},
     "output_type": "execute_result"
    }
   ],
   "source": [
    "np.amax(arr1) # 最大值"
   ]
  },
  {
   "cell_type": "code",
   "execution_count": 18,
   "id": "b6c6b3ae",
   "metadata": {},
   "outputs": [
    {
     "data": {
      "text/plain": [
       "array([3, 6, 9])"
      ]
     },
     "execution_count": 18,
     "metadata": {},
     "output_type": "execute_result"
    }
   ],
   "source": [
    "np.amax(arr1, axis=1) # 按照横轴求最大值, 返回一个一维数组"
   ]
  },
  {
   "cell_type": "code",
   "execution_count": 19,
   "id": "b0749963",
   "metadata": {},
   "outputs": [
    {
     "data": {
      "text/plain": [
       "array([7, 8, 9])"
      ]
     },
     "execution_count": 19,
     "metadata": {},
     "output_type": "execute_result"
    }
   ],
   "source": [
    "np.amax(arr1, axis=0) # 按照纵轴求最大值, 返回一个一维数组"
   ]
  },
  {
   "cell_type": "code",
   "execution_count": 20,
   "id": "aeb5348e",
   "metadata": {},
   "outputs": [
    {
     "data": {
      "text/plain": [
       "1"
      ]
     },
     "execution_count": 20,
     "metadata": {},
     "output_type": "execute_result"
    }
   ],
   "source": [
    "np.amin(arr1) # 最小值"
   ]
  },
  {
   "cell_type": "code",
   "execution_count": 21,
   "id": "6373ec17",
   "metadata": {},
   "outputs": [
    {
     "data": {
      "text/plain": [
       "array([1, 4, 7])"
      ]
     },
     "execution_count": 21,
     "metadata": {},
     "output_type": "execute_result"
    }
   ],
   "source": [
    "np.amin(arr1, axis=1) # 按照横轴求最小值, 返回一个一维数组"
   ]
  },
  {
   "cell_type": "code",
   "execution_count": 22,
   "id": "8042baa6",
   "metadata": {},
   "outputs": [
    {
     "data": {
      "text/plain": [
       "array([1, 2, 3])"
      ]
     },
     "execution_count": 22,
     "metadata": {},
     "output_type": "execute_result"
    }
   ],
   "source": [
    "np.amin(arr1, axis=0) # 按照纵轴求最小值, 返回一个一维数组"
   ]
  },
  {
   "cell_type": "code",
   "execution_count": 23,
   "id": "29a1cfd7",
   "metadata": {},
   "outputs": [
    {
     "data": {
      "text/plain": [
       "8"
      ]
     },
     "execution_count": 23,
     "metadata": {},
     "output_type": "execute_result"
    }
   ],
   "source": [
    "np.ptp(arr1) # 最差值(等于最大值减最小值)"
   ]
  },
  {
   "cell_type": "markdown",
   "id": "24d0cb2d",
   "metadata": {},
   "source": [
    "## 1.表现数据波动的函数"
   ]
  },
  {
   "cell_type": "code",
   "execution_count": 24,
   "id": "dce33c6f",
   "metadata": {},
   "outputs": [
    {
     "data": {
      "text/plain": [
       "array([[1, 2, 3],\n",
       "       [4, 5, 6],\n",
       "       [7, 8, 9]])"
      ]
     },
     "execution_count": 24,
     "metadata": {},
     "output_type": "execute_result"
    }
   ],
   "source": [
    "arr1 = np.arange(1, 10).reshape(3,3)\n",
    "arr1"
   ]
  },
  {
   "cell_type": "code",
   "execution_count": 25,
   "id": "e6e430dd",
   "metadata": {},
   "outputs": [
    {
     "data": {
      "text/plain": [
       "5.0"
      ]
     },
     "execution_count": 25,
     "metadata": {},
     "output_type": "execute_result"
    }
   ],
   "source": [
    "np.mean(arr1) # 求算术平均数"
   ]
  },
  {
   "cell_type": "code",
   "execution_count": 26,
   "id": "d7c39235",
   "metadata": {},
   "outputs": [
    {
     "data": {
      "text/plain": [
       "5.0"
      ]
     },
     "execution_count": 26,
     "metadata": {},
     "output_type": "execute_result"
    }
   ],
   "source": [
    "np.median(arr1) # 求中位数"
   ]
  },
  {
   "cell_type": "code",
   "execution_count": 27,
   "id": "b7c5fcdd",
   "metadata": {},
   "outputs": [
    {
     "data": {
      "text/plain": [
       "6.666666666666667"
      ]
     },
     "execution_count": 27,
     "metadata": {},
     "output_type": "execute_result"
    }
   ],
   "source": [
    "np.var(arr1) # 求方差"
   ]
  },
  {
   "cell_type": "markdown",
   "id": "a593bfe7",
   "metadata": {},
   "source": [
    "## 2.其他"
   ]
  },
  {
   "cell_type": "code",
   "execution_count": 28,
   "id": "8158be0f",
   "metadata": {},
   "outputs": [
    {
     "data": {
      "text/plain": [
       "45"
      ]
     },
     "execution_count": 28,
     "metadata": {},
     "output_type": "execute_result"
    }
   ],
   "source": [
    "np.sum(arr1) # 求和"
   ]
  },
  {
   "cell_type": "code",
   "execution_count": 29,
   "id": "1e241a4f",
   "metadata": {},
   "outputs": [
    {
     "data": {
      "text/plain": [
       "array([ 1,  3,  6, 10, 15, 21, 28, 36, 45], dtype=int32)"
      ]
     },
     "execution_count": 29,
     "metadata": {},
     "output_type": "execute_result"
    }
   ],
   "source": [
    "np.cumsum(arr1) # 求累加和"
   ]
  },
  {
   "cell_type": "code",
   "execution_count": 30,
   "id": "215c883f",
   "metadata": {},
   "outputs": [
    {
     "data": {
      "text/plain": [
       "array([[ 1,  2,  3],\n",
       "       [ 5,  7,  9],\n",
       "       [12, 15, 18]], dtype=int32)"
      ]
     },
     "execution_count": 30,
     "metadata": {},
     "output_type": "execute_result"
    }
   ],
   "source": [
    "np.cumsum(arr1, axis=0) # 求累加和(按纵轴)"
   ]
  },
  {
   "cell_type": "code",
   "execution_count": 31,
   "id": "b26106fb",
   "metadata": {},
   "outputs": [
    {
     "data": {
      "text/plain": [
       "array([[ 1,  3,  6],\n",
       "       [ 4,  9, 15],\n",
       "       [ 7, 15, 24]], dtype=int32)"
      ]
     },
     "execution_count": 31,
     "metadata": {},
     "output_type": "execute_result"
    }
   ],
   "source": [
    "np.cumsum(arr1, axis=1) # 求累加和(按横轴)"
   ]
  },
  {
   "cell_type": "code",
   "execution_count": 32,
   "id": "f0ef1d6a",
   "metadata": {},
   "outputs": [
    {
     "data": {
      "text/plain": [
       "array([     1,      2,      6,     24,    120,    720,   5040,  40320,\n",
       "       362880], dtype=int32)"
      ]
     },
     "execution_count": 32,
     "metadata": {},
     "output_type": "execute_result"
    }
   ],
   "source": [
    "np.cumprod(arr1) # 求累加积"
   ]
  }
 ],
 "metadata": {
  "kernelspec": {
   "display_name": "Python 3 (ipykernel)",
   "language": "python",
   "name": "python3"
  },
  "language_info": {
   "codemirror_mode": {
    "name": "ipython",
    "version": 3
   },
   "file_extension": ".py",
   "mimetype": "text/x-python",
   "name": "python",
   "nbconvert_exporter": "python",
   "pygments_lexer": "ipython3",
   "version": "3.9.13"
  }
 },
 "nbformat": 4,
 "nbformat_minor": 5
}
