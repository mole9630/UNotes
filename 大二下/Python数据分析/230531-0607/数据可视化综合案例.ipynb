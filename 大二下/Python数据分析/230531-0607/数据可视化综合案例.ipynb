{
 "cells": [
  {
   "cell_type": "code",
   "execution_count": 1,
   "metadata": {},
   "outputs": [],
   "source": [
    "import matplotlib.pyplot as plt\n",
    "%matplotlib inline\n",
    "# 魔法指令, 可以直接在notebook显示图片\n",
    "import numpy as np\n",
    "import pandas as pd\n",
    "from pandas import Series, DataFrame\n",
    "\n",
    "# 设置中文显示\n",
    "plt.rcParams['font.sans-serif'] = ['SimHei']\n",
    "# 设置正常显示符号\n",
    "plt.rcParams['axes.unicode_minus'] = False"
   ]
  },
  {
   "cell_type": "markdown",
   "metadata": {},
   "source": [
    "主要分析:城市, 省份, 国家"
   ]
  },
  {
   "cell_type": "markdown",
   "metadata": {},
   "source": [
    "# 一.读取数据"
   ]
  },
  {
   "cell_type": "code",
   "execution_count": 2,
   "metadata": {
    "scrolled": true
   },
   "outputs": [
    {
     "data": {
      "text/html": [
       "<div>\n",
       "<style scoped>\n",
       "    .dataframe tbody tr th:only-of-type {\n",
       "        vertical-align: middle;\n",
       "    }\n",
       "\n",
       "    .dataframe tbody tr th {\n",
       "        vertical-align: top;\n",
       "    }\n",
       "\n",
       "    .dataframe thead th {\n",
       "        text-align: right;\n",
       "    }\n",
       "</style>\n",
       "<table border=\"1\" class=\"dataframe\">\n",
       "  <thead>\n",
       "    <tr style=\"text-align: right;\">\n",
       "      <th></th>\n",
       "      <th>Brand</th>\n",
       "      <th>Store Number</th>\n",
       "      <th>Store Name</th>\n",
       "      <th>Ownership Type</th>\n",
       "      <th>Street Address</th>\n",
       "      <th>City</th>\n",
       "      <th>State/Province</th>\n",
       "      <th>Country</th>\n",
       "      <th>Postcode</th>\n",
       "      <th>Phone Number</th>\n",
       "      <th>Timezone</th>\n",
       "      <th>Longitude</th>\n",
       "      <th>Latitude</th>\n",
       "    </tr>\n",
       "  </thead>\n",
       "  <tbody>\n",
       "    <tr>\n",
       "      <th>0</th>\n",
       "      <td>Starbucks</td>\n",
       "      <td>47370-257954</td>\n",
       "      <td>Meritxell, 96</td>\n",
       "      <td>Licensed</td>\n",
       "      <td>Av. Meritxell, 96</td>\n",
       "      <td>Andorra la Vella</td>\n",
       "      <td>7</td>\n",
       "      <td>AD</td>\n",
       "      <td>AD500</td>\n",
       "      <td>376818720</td>\n",
       "      <td>GMT+1:00 Europe/Andorra</td>\n",
       "      <td>1.53</td>\n",
       "      <td>42.51</td>\n",
       "    </tr>\n",
       "    <tr>\n",
       "      <th>1</th>\n",
       "      <td>Starbucks</td>\n",
       "      <td>22331-212325</td>\n",
       "      <td>Ajman Drive Thru</td>\n",
       "      <td>Licensed</td>\n",
       "      <td>1 Street 69, Al Jarf</td>\n",
       "      <td>Ajman</td>\n",
       "      <td>AJ</td>\n",
       "      <td>AE</td>\n",
       "      <td>NaN</td>\n",
       "      <td>NaN</td>\n",
       "      <td>GMT+04:00 Asia/Dubai</td>\n",
       "      <td>55.47</td>\n",
       "      <td>25.42</td>\n",
       "    </tr>\n",
       "    <tr>\n",
       "      <th>2</th>\n",
       "      <td>Starbucks</td>\n",
       "      <td>47089-256771</td>\n",
       "      <td>Dana Mall</td>\n",
       "      <td>Licensed</td>\n",
       "      <td>Sheikh Khalifa Bin Zayed St.</td>\n",
       "      <td>Ajman</td>\n",
       "      <td>AJ</td>\n",
       "      <td>AE</td>\n",
       "      <td>NaN</td>\n",
       "      <td>NaN</td>\n",
       "      <td>GMT+04:00 Asia/Dubai</td>\n",
       "      <td>55.47</td>\n",
       "      <td>25.39</td>\n",
       "    </tr>\n",
       "    <tr>\n",
       "      <th>3</th>\n",
       "      <td>Starbucks</td>\n",
       "      <td>22126-218024</td>\n",
       "      <td>Twofour 54</td>\n",
       "      <td>Licensed</td>\n",
       "      <td>Al Salam Street</td>\n",
       "      <td>Abu Dhabi</td>\n",
       "      <td>AZ</td>\n",
       "      <td>AE</td>\n",
       "      <td>NaN</td>\n",
       "      <td>NaN</td>\n",
       "      <td>GMT+04:00 Asia/Dubai</td>\n",
       "      <td>54.38</td>\n",
       "      <td>24.48</td>\n",
       "    </tr>\n",
       "    <tr>\n",
       "      <th>4</th>\n",
       "      <td>Starbucks</td>\n",
       "      <td>17127-178586</td>\n",
       "      <td>Al Ain Tower</td>\n",
       "      <td>Licensed</td>\n",
       "      <td>Khaldiya Area, Abu Dhabi Island</td>\n",
       "      <td>Abu Dhabi</td>\n",
       "      <td>AZ</td>\n",
       "      <td>AE</td>\n",
       "      <td>NaN</td>\n",
       "      <td>NaN</td>\n",
       "      <td>GMT+04:00 Asia/Dubai</td>\n",
       "      <td>54.54</td>\n",
       "      <td>24.51</td>\n",
       "    </tr>\n",
       "  </tbody>\n",
       "</table>\n",
       "</div>"
      ],
      "text/plain": [
       "       Brand  Store Number        Store Name Ownership Type  \\\n",
       "0  Starbucks  47370-257954     Meritxell, 96       Licensed   \n",
       "1  Starbucks  22331-212325  Ajman Drive Thru       Licensed   \n",
       "2  Starbucks  47089-256771         Dana Mall       Licensed   \n",
       "3  Starbucks  22126-218024        Twofour 54       Licensed   \n",
       "4  Starbucks  17127-178586      Al Ain Tower       Licensed   \n",
       "\n",
       "                    Street Address              City State/Province Country  \\\n",
       "0                Av. Meritxell, 96  Andorra la Vella              7      AD   \n",
       "1             1 Street 69, Al Jarf             Ajman             AJ      AE   \n",
       "2     Sheikh Khalifa Bin Zayed St.             Ajman             AJ      AE   \n",
       "3                  Al Salam Street         Abu Dhabi             AZ      AE   \n",
       "4  Khaldiya Area, Abu Dhabi Island         Abu Dhabi             AZ      AE   \n",
       "\n",
       "  Postcode Phone Number                 Timezone  Longitude  Latitude  \n",
       "0    AD500    376818720  GMT+1:00 Europe/Andorra       1.53     42.51  \n",
       "1      NaN          NaN     GMT+04:00 Asia/Dubai      55.47     25.42  \n",
       "2      NaN          NaN     GMT+04:00 Asia/Dubai      55.47     25.39  \n",
       "3      NaN          NaN     GMT+04:00 Asia/Dubai      54.38     24.48  \n",
       "4      NaN          NaN     GMT+04:00 Asia/Dubai      54.54     24.51  "
      ]
     },
     "execution_count": 2,
     "metadata": {},
     "output_type": "execute_result"
    }
   ],
   "source": [
    "data = pd.read_csv(r'./data/starbucks.csv', encoding='utf-8')\n",
    "data.head()"
   ]
  },
  {
   "cell_type": "code",
   "execution_count": 3,
   "metadata": {},
   "outputs": [
    {
     "name": "stdout",
     "output_type": "stream",
     "text": [
      "<class 'pandas.core.frame.DataFrame'>\n",
      "RangeIndex: 25600 entries, 0 to 25599\n",
      "Data columns (total 13 columns):\n",
      "Brand             25600 non-null object\n",
      "Store Number      25600 non-null object\n",
      "Store Name        25600 non-null object\n",
      "Ownership Type    25600 non-null object\n",
      "Street Address    25598 non-null object\n",
      "City              25585 non-null object\n",
      "State/Province    25600 non-null object\n",
      "Country           25600 non-null object\n",
      "Postcode          24078 non-null object\n",
      "Phone Number      18739 non-null object\n",
      "Timezone          25600 non-null object\n",
      "Longitude         25599 non-null float64\n",
      "Latitude          25599 non-null float64\n",
      "dtypes: float64(2), object(11)\n",
      "memory usage: 2.5+ MB\n"
     ]
    }
   ],
   "source": [
    "data.info()"
   ]
  },
  {
   "cell_type": "markdown",
   "metadata": {},
   "source": [
    "# 二.数据清洗"
   ]
  },
  {
   "cell_type": "markdown",
   "metadata": {},
   "source": [
    "## 1.缺失值处理"
   ]
  },
  {
   "cell_type": "code",
   "execution_count": 4,
   "metadata": {
    "scrolled": true
   },
   "outputs": [
    {
     "data": {
      "text/plain": [
       "Brand                0\n",
       "Store Number         0\n",
       "Store Name           0\n",
       "Ownership Type       0\n",
       "Street Address       2\n",
       "City                15\n",
       "State/Province       0\n",
       "Country              0\n",
       "Postcode          1522\n",
       "Phone Number      6861\n",
       "Timezone             0\n",
       "Longitude            1\n",
       "Latitude             1\n",
       "dtype: int64"
      ]
     },
     "execution_count": 4,
     "metadata": {},
     "output_type": "execute_result"
    }
   ],
   "source": [
    "data.isnull().sum()"
   ]
  },
  {
   "cell_type": "code",
   "execution_count": 5,
   "metadata": {},
   "outputs": [
    {
     "data": {
      "text/html": [
       "<div>\n",
       "<style scoped>\n",
       "    .dataframe tbody tr th:only-of-type {\n",
       "        vertical-align: middle;\n",
       "    }\n",
       "\n",
       "    .dataframe tbody tr th {\n",
       "        vertical-align: top;\n",
       "    }\n",
       "\n",
       "    .dataframe thead th {\n",
       "        text-align: right;\n",
       "    }\n",
       "</style>\n",
       "<table border=\"1\" class=\"dataframe\">\n",
       "  <thead>\n",
       "    <tr style=\"text-align: right;\">\n",
       "      <th></th>\n",
       "      <th>Brand</th>\n",
       "      <th>Store Number</th>\n",
       "      <th>Store Name</th>\n",
       "      <th>Ownership Type</th>\n",
       "      <th>Street Address</th>\n",
       "      <th>City</th>\n",
       "      <th>State/Province</th>\n",
       "      <th>Country</th>\n",
       "      <th>Postcode</th>\n",
       "      <th>Phone Number</th>\n",
       "      <th>Timezone</th>\n",
       "      <th>Longitude</th>\n",
       "      <th>Latitude</th>\n",
       "    </tr>\n",
       "  </thead>\n",
       "  <tbody>\n",
       "    <tr>\n",
       "      <th>5069</th>\n",
       "      <td>Starbucks</td>\n",
       "      <td>31657-104436</td>\n",
       "      <td>سان ستيفانو</td>\n",
       "      <td>Licensed</td>\n",
       "      <td>طريق الكورنيش أبراج سان ستيفانو</td>\n",
       "      <td>NaN</td>\n",
       "      <td>ALX</td>\n",
       "      <td>EG</td>\n",
       "      <td>NaN</td>\n",
       "      <td>20120800287</td>\n",
       "      <td>GMT+2:00 Africa/Cairo</td>\n",
       "      <td>29.96</td>\n",
       "      <td>31.24</td>\n",
       "    </tr>\n",
       "    <tr>\n",
       "      <th>5088</th>\n",
       "      <td>Starbucks</td>\n",
       "      <td>32152-109504</td>\n",
       "      <td>النايل سيتى</td>\n",
       "      <td>Licensed</td>\n",
       "      <td>كورنيش النيل أبراج النايل سيتى</td>\n",
       "      <td>NaN</td>\n",
       "      <td>C</td>\n",
       "      <td>EG</td>\n",
       "      <td>NaN</td>\n",
       "      <td>20120800307</td>\n",
       "      <td>GMT+2:00 Africa/Cairo</td>\n",
       "      <td>31.23</td>\n",
       "      <td>30.07</td>\n",
       "    </tr>\n",
       "    <tr>\n",
       "      <th>5089</th>\n",
       "      <td>Starbucks</td>\n",
       "      <td>32314-115172</td>\n",
       "      <td>أسكندرية الصحراوى</td>\n",
       "      <td>Licensed</td>\n",
       "      <td>الكيلو 28 طريق الاسكندرية الصحراوى, سيتى سنتر ...</td>\n",
       "      <td>NaN</td>\n",
       "      <td>C</td>\n",
       "      <td>EG</td>\n",
       "      <td>NaN</td>\n",
       "      <td>20185022214</td>\n",
       "      <td>GMT+2:00 Africa/Cairo</td>\n",
       "      <td>31.03</td>\n",
       "      <td>30.06</td>\n",
       "    </tr>\n",
       "    <tr>\n",
       "      <th>5090</th>\n",
       "      <td>Starbucks</td>\n",
       "      <td>31479-105246</td>\n",
       "      <td>مكرم عبيد</td>\n",
       "      <td>Licensed</td>\n",
       "      <td>شارع مكرم عبيد, سيتى ستارز مول</td>\n",
       "      <td>NaN</td>\n",
       "      <td>C</td>\n",
       "      <td>EG</td>\n",
       "      <td>NaN</td>\n",
       "      <td>20120800332</td>\n",
       "      <td>GMT+2:00 Africa/Cairo</td>\n",
       "      <td>31.34</td>\n",
       "      <td>30.09</td>\n",
       "    </tr>\n",
       "    <tr>\n",
       "      <th>5091</th>\n",
       "      <td>Starbucks</td>\n",
       "      <td>31756-107161</td>\n",
       "      <td>سيتى ستارز 1</td>\n",
       "      <td>Licensed</td>\n",
       "      <td>شارع عمر بن الخطاب, سيتى ستارز مول</td>\n",
       "      <td>NaN</td>\n",
       "      <td>C</td>\n",
       "      <td>EG</td>\n",
       "      <td>NaN</td>\n",
       "      <td>20120800350</td>\n",
       "      <td>GMT+2:00 Africa/Cairo</td>\n",
       "      <td>31.33</td>\n",
       "      <td>30.06</td>\n",
       "    </tr>\n",
       "    <tr>\n",
       "      <th>5092</th>\n",
       "      <td>Starbucks</td>\n",
       "      <td>1397-139244</td>\n",
       "      <td>سيتى ستارز 3</td>\n",
       "      <td>Licensed</td>\n",
       "      <td>شارع عمر بن الخطاب, كارفور المعادى</td>\n",
       "      <td>NaN</td>\n",
       "      <td>C</td>\n",
       "      <td>EG</td>\n",
       "      <td>NaN</td>\n",
       "      <td>20120029885</td>\n",
       "      <td>GMT+2:00 Africa/Cairo</td>\n",
       "      <td>31.33</td>\n",
       "      <td>30.06</td>\n",
       "    </tr>\n",
       "    <tr>\n",
       "      <th>5093</th>\n",
       "      <td>Starbucks</td>\n",
       "      <td>32191-116645</td>\n",
       "      <td>معادى سيتى سنتر</td>\n",
       "      <td>Licensed</td>\n",
       "      <td>القطامية الطريق الدائرى</td>\n",
       "      <td>NaN</td>\n",
       "      <td>C</td>\n",
       "      <td>EG</td>\n",
       "      <td>NaN</td>\n",
       "      <td>20185002677</td>\n",
       "      <td>GMT+2:00 Africa/Cairo</td>\n",
       "      <td>31.30</td>\n",
       "      <td>29.99</td>\n",
       "    </tr>\n",
       "    <tr>\n",
       "      <th>5094</th>\n",
       "      <td>Starbucks</td>\n",
       "      <td>3664-142484</td>\n",
       "      <td>سليمان أباظة</td>\n",
       "      <td>Licensed</td>\n",
       "      <td>34شارع سليمان أباظة المهندسين, تيفولى مول</td>\n",
       "      <td>NaN</td>\n",
       "      <td>C</td>\n",
       "      <td>EG</td>\n",
       "      <td>NaN</td>\n",
       "      <td>129007799</td>\n",
       "      <td>GMT+2:00 Africa/Cairo</td>\n",
       "      <td>31.20</td>\n",
       "      <td>30.06</td>\n",
       "    </tr>\n",
       "    <tr>\n",
       "      <th>5095</th>\n",
       "      <td>Starbucks</td>\n",
       "      <td>3562-131562</td>\n",
       "      <td>تيفولى</td>\n",
       "      <td>Licensed</td>\n",
       "      <td>ألماظة ميدان الجوهر شارع أحمد فوزى, صالة السفر 1</td>\n",
       "      <td>NaN</td>\n",
       "      <td>C</td>\n",
       "      <td>EG</td>\n",
       "      <td>NaN</td>\n",
       "      <td>018-0819995</td>\n",
       "      <td>GMT+2:00 Africa/Cairo</td>\n",
       "      <td>31.34</td>\n",
       "      <td>30.08</td>\n",
       "    </tr>\n",
       "    <tr>\n",
       "      <th>5096</th>\n",
       "      <td>Starbucks</td>\n",
       "      <td>31646-106547</td>\n",
       "      <td>مطار القاهرة</td>\n",
       "      <td>Licensed</td>\n",
       "      <td>صالة السفر 1- مطار القاهرة, فندق سنافير</td>\n",
       "      <td>NaN</td>\n",
       "      <td>C</td>\n",
       "      <td>EG</td>\n",
       "      <td>NaN</td>\n",
       "      <td>20120800335</td>\n",
       "      <td>GMT+2:00 Africa/Cairo</td>\n",
       "      <td>31.41</td>\n",
       "      <td>30.11</td>\n",
       "    </tr>\n",
       "    <tr>\n",
       "      <th>5097</th>\n",
       "      <td>Starbucks</td>\n",
       "      <td>31755-107182</td>\n",
       "      <td>سنافير - نعمه بيه</td>\n",
       "      <td>Licensed</td>\n",
       "      <td>فندق سنافير - نعمة بيه, المركاتو مول2</td>\n",
       "      <td>NaN</td>\n",
       "      <td>JS</td>\n",
       "      <td>EG</td>\n",
       "      <td>NaN</td>\n",
       "      <td>20120800327</td>\n",
       "      <td>GMT+2:00 Africa/Cairo</td>\n",
       "      <td>34.33</td>\n",
       "      <td>27.91</td>\n",
       "    </tr>\n",
       "    <tr>\n",
       "      <th>5098</th>\n",
       "      <td>Starbucks</td>\n",
       "      <td>32389-107342</td>\n",
       "      <td>المركاتو مول2</td>\n",
       "      <td>Licensed</td>\n",
       "      <td>الهضبة - الملركاتو2 بجوار المسرح الرومانى, مول...</td>\n",
       "      <td>NaN</td>\n",
       "      <td>JS</td>\n",
       "      <td>EG</td>\n",
       "      <td>NaN</td>\n",
       "      <td>20185022217</td>\n",
       "      <td>GMT+2:00 Africa/Cairo</td>\n",
       "      <td>34.33</td>\n",
       "      <td>27.92</td>\n",
       "    </tr>\n",
       "    <tr>\n",
       "      <th>5099</th>\n",
       "      <td>Starbucks</td>\n",
       "      <td>32490-111349</td>\n",
       "      <td>خان لاجونا</td>\n",
       "      <td>Licensed</td>\n",
       "      <td>خليج نبق مول - خان لاجونا</td>\n",
       "      <td>NaN</td>\n",
       "      <td>JS</td>\n",
       "      <td>EG</td>\n",
       "      <td>NaN</td>\n",
       "      <td>20189888547</td>\n",
       "      <td>GMT+2:00 Africa/Cairo</td>\n",
       "      <td>34.43</td>\n",
       "      <td>28.04</td>\n",
       "    </tr>\n",
       "    <tr>\n",
       "      <th>9871</th>\n",
       "      <td>Starbucks</td>\n",
       "      <td>26909-228505</td>\n",
       "      <td>Vivacity Megamall</td>\n",
       "      <td>Licensed</td>\n",
       "      <td>NA, Na</td>\n",
       "      <td>NaN</td>\n",
       "      <td>13</td>\n",
       "      <td>MY</td>\n",
       "      <td>NaN</td>\n",
       "      <td>82263673</td>\n",
       "      <td>GMT+08:00 Asia/Kuala_Lumpur</td>\n",
       "      <td>110.36</td>\n",
       "      <td>1.53</td>\n",
       "    </tr>\n",
       "    <tr>\n",
       "      <th>10767</th>\n",
       "      <td>Starbucks</td>\n",
       "      <td>31429-102231</td>\n",
       "      <td>ابراج البيت 1</td>\n",
       "      <td>Licensed</td>\n",
       "      <td>شارع اجياد- باب الملك عبد العزيز</td>\n",
       "      <td>NaN</td>\n",
       "      <td>2</td>\n",
       "      <td>SA</td>\n",
       "      <td>NaN</td>\n",
       "      <td>96625719012</td>\n",
       "      <td>GMT+03:00 Asia/Riyadh</td>\n",
       "      <td>39.83</td>\n",
       "      <td>21.42</td>\n",
       "    </tr>\n",
       "  </tbody>\n",
       "</table>\n",
       "</div>"
      ],
      "text/plain": [
       "           Brand  Store Number         Store Name Ownership Type  \\\n",
       "5069   Starbucks  31657-104436        سان ستيفانو       Licensed   \n",
       "5088   Starbucks  32152-109504        النايل سيتى       Licensed   \n",
       "5089   Starbucks  32314-115172  أسكندرية الصحراوى       Licensed   \n",
       "5090   Starbucks  31479-105246          مكرم عبيد       Licensed   \n",
       "5091   Starbucks  31756-107161       سيتى ستارز 1       Licensed   \n",
       "5092   Starbucks   1397-139244       سيتى ستارز 3       Licensed   \n",
       "5093   Starbucks  32191-116645    معادى سيتى سنتر       Licensed   \n",
       "5094   Starbucks   3664-142484       سليمان أباظة       Licensed   \n",
       "5095   Starbucks   3562-131562             تيفولى       Licensed   \n",
       "5096   Starbucks  31646-106547       مطار القاهرة       Licensed   \n",
       "5097   Starbucks  31755-107182  سنافير - نعمه بيه       Licensed   \n",
       "5098   Starbucks  32389-107342      المركاتو مول2       Licensed   \n",
       "5099   Starbucks  32490-111349         خان لاجونا       Licensed   \n",
       "9871   Starbucks  26909-228505  Vivacity Megamall       Licensed   \n",
       "10767  Starbucks  31429-102231      ابراج البيت 1       Licensed   \n",
       "\n",
       "                                          Street Address City State/Province  \\\n",
       "5069                     طريق الكورنيش أبراج سان ستيفانو  NaN            ALX   \n",
       "5088                      كورنيش النيل أبراج النايل سيتى  NaN              C   \n",
       "5089   الكيلو 28 طريق الاسكندرية الصحراوى, سيتى سنتر ...  NaN              C   \n",
       "5090                      شارع مكرم عبيد, سيتى ستارز مول  NaN              C   \n",
       "5091                  شارع عمر بن الخطاب, سيتى ستارز مول  NaN              C   \n",
       "5092                  شارع عمر بن الخطاب, كارفور المعادى  NaN              C   \n",
       "5093                             القطامية الطريق الدائرى  NaN              C   \n",
       "5094           34شارع سليمان أباظة المهندسين, تيفولى مول  NaN              C   \n",
       "5095    ألماظة ميدان الجوهر شارع أحمد فوزى, صالة السفر 1  NaN              C   \n",
       "5096             صالة السفر 1- مطار القاهرة, فندق سنافير  NaN              C   \n",
       "5097               فندق سنافير - نعمة بيه, المركاتو مول2  NaN             JS   \n",
       "5098   الهضبة - الملركاتو2 بجوار المسرح الرومانى, مول...  NaN             JS   \n",
       "5099                           خليج نبق مول - خان لاجونا  NaN             JS   \n",
       "9871                                              NA, Na  NaN             13   \n",
       "10767                   شارع اجياد- باب الملك عبد العزيز  NaN              2   \n",
       "\n",
       "      Country Postcode Phone Number                     Timezone  Longitude  \\\n",
       "5069       EG      NaN  20120800287        GMT+2:00 Africa/Cairo      29.96   \n",
       "5088       EG      NaN  20120800307        GMT+2:00 Africa/Cairo      31.23   \n",
       "5089       EG      NaN  20185022214        GMT+2:00 Africa/Cairo      31.03   \n",
       "5090       EG      NaN  20120800332        GMT+2:00 Africa/Cairo      31.34   \n",
       "5091       EG      NaN  20120800350        GMT+2:00 Africa/Cairo      31.33   \n",
       "5092       EG      NaN  20120029885        GMT+2:00 Africa/Cairo      31.33   \n",
       "5093       EG      NaN  20185002677        GMT+2:00 Africa/Cairo      31.30   \n",
       "5094       EG      NaN    129007799        GMT+2:00 Africa/Cairo      31.20   \n",
       "5095       EG      NaN  018-0819995        GMT+2:00 Africa/Cairo      31.34   \n",
       "5096       EG      NaN  20120800335        GMT+2:00 Africa/Cairo      31.41   \n",
       "5097       EG      NaN  20120800327        GMT+2:00 Africa/Cairo      34.33   \n",
       "5098       EG      NaN  20185022217        GMT+2:00 Africa/Cairo      34.33   \n",
       "5099       EG      NaN  20189888547        GMT+2:00 Africa/Cairo      34.43   \n",
       "9871       MY      NaN     82263673  GMT+08:00 Asia/Kuala_Lumpur     110.36   \n",
       "10767      SA      NaN  96625719012        GMT+03:00 Asia/Riyadh      39.83   \n",
       "\n",
       "       Latitude  \n",
       "5069      31.24  \n",
       "5088      30.07  \n",
       "5089      30.06  \n",
       "5090      30.09  \n",
       "5091      30.06  \n",
       "5092      30.06  \n",
       "5093      29.99  \n",
       "5094      30.06  \n",
       "5095      30.08  \n",
       "5096      30.11  \n",
       "5097      27.91  \n",
       "5098      27.92  \n",
       "5099      28.04  \n",
       "9871       1.53  \n",
       "10767     21.42  "
      ]
     },
     "execution_count": 5,
     "metadata": {},
     "output_type": "execute_result"
    }
   ],
   "source": [
    "data[data['City'].isnull() == True]"
   ]
  },
  {
   "cell_type": "code",
   "execution_count": 6,
   "metadata": {},
   "outputs": [
    {
     "data": {
      "text/html": [
       "<div>\n",
       "<style scoped>\n",
       "    .dataframe tbody tr th:only-of-type {\n",
       "        vertical-align: middle;\n",
       "    }\n",
       "\n",
       "    .dataframe tbody tr th {\n",
       "        vertical-align: top;\n",
       "    }\n",
       "\n",
       "    .dataframe thead th {\n",
       "        text-align: right;\n",
       "    }\n",
       "</style>\n",
       "<table border=\"1\" class=\"dataframe\">\n",
       "  <thead>\n",
       "    <tr style=\"text-align: right;\">\n",
       "      <th></th>\n",
       "      <th>Brand</th>\n",
       "      <th>Store Number</th>\n",
       "      <th>Store Name</th>\n",
       "      <th>Ownership Type</th>\n",
       "      <th>Street Address</th>\n",
       "      <th>City</th>\n",
       "      <th>State/Province</th>\n",
       "      <th>Country</th>\n",
       "      <th>Postcode</th>\n",
       "      <th>Phone Number</th>\n",
       "      <th>Timezone</th>\n",
       "      <th>Longitude</th>\n",
       "      <th>Latitude</th>\n",
       "    </tr>\n",
       "  </thead>\n",
       "  <tbody>\n",
       "  </tbody>\n",
       "</table>\n",
       "</div>"
      ],
      "text/plain": [
       "Empty DataFrame\n",
       "Columns: [Brand, Store Number, Store Name, Ownership Type, Street Address, City, State/Province, Country, Postcode, Phone Number, Timezone, Longitude, Latitude]\n",
       "Index: []"
      ]
     },
     "execution_count": 6,
     "metadata": {},
     "output_type": "execute_result"
    }
   ],
   "source": [
    "data['City'] = data['City'].fillna(data['State/Province'])\n",
    "data[data['City'].isnull() == True]"
   ]
  },
  {
   "cell_type": "markdown",
   "metadata": {},
   "source": [
    "## 2.筛选星巴克的信息"
   ]
  },
  {
   "cell_type": "code",
   "execution_count": 7,
   "metadata": {},
   "outputs": [
    {
     "data": {
      "text/plain": [
       "array(['Starbucks', 'Teavana', 'Evolution Fresh', 'Coffee House Holdings'],\n",
       "      dtype=object)"
      ]
     },
     "execution_count": 7,
     "metadata": {},
     "output_type": "execute_result"
    }
   ],
   "source": [
    "data['Brand'].unique() # 查看品牌中的唯一值"
   ]
  },
  {
   "cell_type": "code",
   "execution_count": 8,
   "metadata": {},
   "outputs": [
    {
     "data": {
      "text/plain": [
       "array(['Starbucks'], dtype=object)"
      ]
     },
     "execution_count": 8,
     "metadata": {},
     "output_type": "execute_result"
    }
   ],
   "source": [
    "starbucks = data[data['Brand'] == 'Starbucks']\n",
    "starbucks['Brand'].unique() # 查看品牌中的唯一值"
   ]
  },
  {
   "cell_type": "code",
   "execution_count": 9,
   "metadata": {},
   "outputs": [
    {
     "data": {
      "text/plain": [
       "'保存成功'"
      ]
     },
     "execution_count": 9,
     "metadata": {},
     "output_type": "execute_result"
    }
   ],
   "source": [
    "starbucks.to_csv(r'./starbucks.csv', encoding='utf-8', index=False)\n",
    "'保存成功'"
   ]
  },
  {
   "cell_type": "markdown",
   "metadata": {},
   "source": [
    "# 三.分析数据"
   ]
  },
  {
   "cell_type": "code",
   "execution_count": 10,
   "metadata": {},
   "outputs": [
    {
     "data": {
      "text/html": [
       "<div>\n",
       "<style scoped>\n",
       "    .dataframe tbody tr th:only-of-type {\n",
       "        vertical-align: middle;\n",
       "    }\n",
       "\n",
       "    .dataframe tbody tr th {\n",
       "        vertical-align: top;\n",
       "    }\n",
       "\n",
       "    .dataframe thead th {\n",
       "        text-align: right;\n",
       "    }\n",
       "</style>\n",
       "<table border=\"1\" class=\"dataframe\">\n",
       "  <thead>\n",
       "    <tr style=\"text-align: right;\">\n",
       "      <th></th>\n",
       "      <th>Brand</th>\n",
       "      <th>Store Number</th>\n",
       "      <th>Store Name</th>\n",
       "      <th>Ownership Type</th>\n",
       "      <th>Street Address</th>\n",
       "      <th>City</th>\n",
       "      <th>State/Province</th>\n",
       "      <th>Country</th>\n",
       "      <th>Postcode</th>\n",
       "      <th>Phone Number</th>\n",
       "      <th>Timezone</th>\n",
       "      <th>Longitude</th>\n",
       "      <th>Latitude</th>\n",
       "    </tr>\n",
       "  </thead>\n",
       "  <tbody>\n",
       "    <tr>\n",
       "      <th>0</th>\n",
       "      <td>Starbucks</td>\n",
       "      <td>47370-257954</td>\n",
       "      <td>Meritxell, 96</td>\n",
       "      <td>Licensed</td>\n",
       "      <td>Av. Meritxell, 96</td>\n",
       "      <td>Andorra la Vella</td>\n",
       "      <td>7</td>\n",
       "      <td>AD</td>\n",
       "      <td>AD500</td>\n",
       "      <td>376818720</td>\n",
       "      <td>GMT+1:00 Europe/Andorra</td>\n",
       "      <td>1.53</td>\n",
       "      <td>42.51</td>\n",
       "    </tr>\n",
       "    <tr>\n",
       "      <th>1</th>\n",
       "      <td>Starbucks</td>\n",
       "      <td>22331-212325</td>\n",
       "      <td>Ajman Drive Thru</td>\n",
       "      <td>Licensed</td>\n",
       "      <td>1 Street 69, Al Jarf</td>\n",
       "      <td>Ajman</td>\n",
       "      <td>AJ</td>\n",
       "      <td>AE</td>\n",
       "      <td>NaN</td>\n",
       "      <td>NaN</td>\n",
       "      <td>GMT+04:00 Asia/Dubai</td>\n",
       "      <td>55.47</td>\n",
       "      <td>25.42</td>\n",
       "    </tr>\n",
       "    <tr>\n",
       "      <th>2</th>\n",
       "      <td>Starbucks</td>\n",
       "      <td>47089-256771</td>\n",
       "      <td>Dana Mall</td>\n",
       "      <td>Licensed</td>\n",
       "      <td>Sheikh Khalifa Bin Zayed St.</td>\n",
       "      <td>Ajman</td>\n",
       "      <td>AJ</td>\n",
       "      <td>AE</td>\n",
       "      <td>NaN</td>\n",
       "      <td>NaN</td>\n",
       "      <td>GMT+04:00 Asia/Dubai</td>\n",
       "      <td>55.47</td>\n",
       "      <td>25.39</td>\n",
       "    </tr>\n",
       "    <tr>\n",
       "      <th>3</th>\n",
       "      <td>Starbucks</td>\n",
       "      <td>22126-218024</td>\n",
       "      <td>Twofour 54</td>\n",
       "      <td>Licensed</td>\n",
       "      <td>Al Salam Street</td>\n",
       "      <td>Abu Dhabi</td>\n",
       "      <td>AZ</td>\n",
       "      <td>AE</td>\n",
       "      <td>NaN</td>\n",
       "      <td>NaN</td>\n",
       "      <td>GMT+04:00 Asia/Dubai</td>\n",
       "      <td>54.38</td>\n",
       "      <td>24.48</td>\n",
       "    </tr>\n",
       "    <tr>\n",
       "      <th>4</th>\n",
       "      <td>Starbucks</td>\n",
       "      <td>17127-178586</td>\n",
       "      <td>Al Ain Tower</td>\n",
       "      <td>Licensed</td>\n",
       "      <td>Khaldiya Area, Abu Dhabi Island</td>\n",
       "      <td>Abu Dhabi</td>\n",
       "      <td>AZ</td>\n",
       "      <td>AE</td>\n",
       "      <td>NaN</td>\n",
       "      <td>NaN</td>\n",
       "      <td>GMT+04:00 Asia/Dubai</td>\n",
       "      <td>54.54</td>\n",
       "      <td>24.51</td>\n",
       "    </tr>\n",
       "  </tbody>\n",
       "</table>\n",
       "</div>"
      ],
      "text/plain": [
       "       Brand  Store Number        Store Name Ownership Type  \\\n",
       "0  Starbucks  47370-257954     Meritxell, 96       Licensed   \n",
       "1  Starbucks  22331-212325  Ajman Drive Thru       Licensed   \n",
       "2  Starbucks  47089-256771         Dana Mall       Licensed   \n",
       "3  Starbucks  22126-218024        Twofour 54       Licensed   \n",
       "4  Starbucks  17127-178586      Al Ain Tower       Licensed   \n",
       "\n",
       "                    Street Address              City State/Province Country  \\\n",
       "0                Av. Meritxell, 96  Andorra la Vella              7      AD   \n",
       "1             1 Street 69, Al Jarf             Ajman             AJ      AE   \n",
       "2     Sheikh Khalifa Bin Zayed St.             Ajman             AJ      AE   \n",
       "3                  Al Salam Street         Abu Dhabi             AZ      AE   \n",
       "4  Khaldiya Area, Abu Dhabi Island         Abu Dhabi             AZ      AE   \n",
       "\n",
       "  Postcode Phone Number                 Timezone  Longitude  Latitude  \n",
       "0    AD500    376818720  GMT+1:00 Europe/Andorra       1.53     42.51  \n",
       "1      NaN          NaN     GMT+04:00 Asia/Dubai      55.47     25.42  \n",
       "2      NaN          NaN     GMT+04:00 Asia/Dubai      55.47     25.39  \n",
       "3      NaN          NaN     GMT+04:00 Asia/Dubai      54.38     24.48  \n",
       "4      NaN          NaN     GMT+04:00 Asia/Dubai      54.54     24.51  "
      ]
     },
     "execution_count": 10,
     "metadata": {},
     "output_type": "execute_result"
    }
   ],
   "source": [
    "starbucks.head()"
   ]
  },
  {
   "cell_type": "markdown",
   "metadata": {},
   "source": [
    "## 1.数据样本总体情况"
   ]
  },
  {
   "cell_type": "code",
   "execution_count": 11,
   "metadata": {},
   "outputs": [
    {
     "data": {
      "text/plain": [
       "(25249, 13)"
      ]
     },
     "execution_count": 11,
     "metadata": {},
     "output_type": "execute_result"
    }
   ],
   "source": [
    "starbucks.shape"
   ]
  },
  {
   "cell_type": "code",
   "execution_count": 12,
   "metadata": {},
   "outputs": [
    {
     "data": {
      "text/plain": [
       "array(['AD', 'AE', 'AR', 'AT', 'AU', 'AW', 'AZ', 'BE', 'BG', 'BH', 'BN',\n",
       "       'BO', 'BR', 'BS', 'CA', 'CH', 'CL', 'CN', 'CO', 'CR', 'CW', 'CY',\n",
       "       'CZ', 'DE', 'DK', 'EG', 'ES', 'FI', 'FR', 'GB', 'GR', 'GT', 'HU',\n",
       "       'ID', 'IE', 'IN', 'JO', 'JP', 'KH', 'KR', 'KW', 'KZ', 'LB', 'LU',\n",
       "       'MA', 'MC', 'MX', 'MY', 'NL', 'NO', 'NZ', 'OM', 'PA', 'PE', 'PH',\n",
       "       'PL', 'PR', 'PT', 'QA', 'RO', 'RU', 'SA', 'SE', 'SG', 'SK', 'SV',\n",
       "       'TH', 'TR', 'TT', 'TW', 'US', 'VN', 'ZA'], dtype=object)"
      ]
     },
     "execution_count": 12,
     "metadata": {},
     "output_type": "execute_result"
    }
   ],
   "source": [
    "starbucks['Country'].unique()"
   ]
  },
  {
   "cell_type": "code",
   "execution_count": 13,
   "metadata": {},
   "outputs": [
    {
     "data": {
      "text/plain": [
       "'共 73 个国家'"
      ]
     },
     "execution_count": 13,
     "metadata": {},
     "output_type": "execute_result"
    }
   ],
   "source": [
    "'共 ' + str(len(starbucks['Country'].unique())) + ' 个国家'"
   ]
  },
  {
   "cell_type": "code",
   "execution_count": 14,
   "metadata": {},
   "outputs": [
    {
     "data": {
      "text/plain": [
       "'共 5406 个城市'"
      ]
     },
     "execution_count": 14,
     "metadata": {},
     "output_type": "execute_result"
    }
   ],
   "source": [
    "'共 ' + str(len(starbucks['City'].unique())) + ' 个城市'"
   ]
  },
  {
   "cell_type": "markdown",
   "metadata": {},
   "source": [
    "## 2.星巴克全球分布情况"
   ]
  },
  {
   "cell_type": "markdown",
   "metadata": {},
   "source": [
    "# 1) 分布最多的前十名国家"
   ]
  },
  {
   "cell_type": "code",
   "execution_count": 15,
   "metadata": {},
   "outputs": [
    {
     "data": {
      "text/plain": [
       "US    13311\n",
       "CN     2734\n",
       "CA     1415\n",
       "JP     1237\n",
       "KR      993\n",
       "GB      901\n",
       "MX      579\n",
       "TW      394\n",
       "TR      326\n",
       "PH      298\n",
       "Name: Country, dtype: int64"
      ]
     },
     "execution_count": 15,
     "metadata": {},
     "output_type": "execute_result"
    }
   ],
   "source": [
    "country_top = starbucks['Country'].value_counts()[:10]\n",
    "country_top"
   ]
  },
  {
   "cell_type": "markdown",
   "metadata": {},
   "source": [
    "#### 使用柱形图显示"
   ]
  },
  {
   "cell_type": "code",
   "execution_count": 16,
   "metadata": {},
   "outputs": [
    {
     "data": {
      "image/png": "[encoded data removed]",
      "text/plain": [
       "<Figure size 432x288 with 1 Axes>"
      ]
     },
     "metadata": {
      "needs_background": "light"
     },
     "output_type": "display_data"
    }
   ],
   "source": [
    "plt.bar(country_top.index, country_top, color='#c7edcc')\n",
    "plt.title('星巴克分布最多的前十名国家', fontsize=16)\n",
    "plt.xlabel('国家', fontsize=14)\n",
    "plt.ylabel('门店数量', fontsize=14)\n",
    "for i,j in zip(range(len(country_top)), country_top):\n",
    "    plt.grid(which='major', color='gray', linestyle='--', alpha=0.5) # 显示网格\n",
    "    plt.text(i, j, j) # 显示数据标签\n",
    "plt.show()"
   ]
  },
  {
   "cell_type": "markdown",
   "metadata": {},
   "source": [
    "# 2) 分布最多的前十名城市"
   ]
  },
  {
   "cell_type": "code",
   "execution_count": 17,
   "metadata": {},
   "outputs": [
    {
     "data": {
      "text/plain": [
       "上海市            542\n",
       "Seoul          243\n",
       "北京市            234\n",
       "New York       230\n",
       "London         215\n",
       "Toronto        186\n",
       "Mexico City    180\n",
       "Chicago        179\n",
       "Las Vegas      153\n",
       "Houston        151\n",
       "Name: City, dtype: int64"
      ]
     },
     "execution_count": 17,
     "metadata": {},
     "output_type": "execute_result"
    }
   ],
   "source": [
    "city_top = starbucks['City'].value_counts()[:10]\n",
    "city_top"
   ]
  },
  {
   "cell_type": "code",
   "execution_count": 18,
   "metadata": {
    "scrolled": true
   },
   "outputs": [
    {
     "data": {
      "image/png": "[encoded data removed]",
      "text/plain": [
       "<Figure size 432x288 with 1 Axes>"
      ]
     },
     "metadata": {
      "needs_background": "light"
     },
     "output_type": "display_data"
    }
   ],
   "source": [
    "plt.bar(city_top.index, city_top, color='#f7edcc')\n",
    "plt.title('星巴克分布最多的前十名城市', fontsize=16)\n",
    "plt.xlabel('城市', fontsize=14)\n",
    "plt.ylabel('门店数量', fontsize=14)\n",
    "for i,j in zip(range(len(city_top)), city_top):\n",
    "    plt.grid(which='major', color='gray', linestyle='--', alpha=0.5) # 显示网格\n",
    "    plt.text(i, j, j) # 显示数据标签\n",
    "plt.show()"
   ]
  },
  {
   "cell_type": "markdown",
   "metadata": {},
   "source": [
    "# 3) 在中国分布情况"
   ]
  }
 ],
 "metadata": {
  "kernelspec": {
   "display_name": "Python 3",
   "language": "python",
   "name": "python3"
  },
  "language_info": {
   "codemirror_mode": {
    "name": "ipython",
    "version": 3
   },
   "file_extension": ".py",
   "mimetype": "text/x-python",
   "name": "python",
   "nbconvert_exporter": "python",
   "pygments_lexer": "ipython3",
   "version": "3.7.3"
  }
 },
 "nbformat": 4,
 "nbformat_minor": 2
}
