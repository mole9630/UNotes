{
 "cells": [
  {
   "cell_type": "code",
   "execution_count": 1,
   "id": "89e57890",
   "metadata": {},
   "outputs": [],
   "source": [
    "from pandas import Series,DataFrame\n",
    "import pandas as pd\n",
    "import numpy as np\n",
    "import matplotlib as mpl\n",
    "import matplotlib.pyplot as plt"
   ]
  },
  {
   "cell_type": "code",
   "execution_count": 2,
   "id": "7954fcf3",
   "metadata": {
    "scrolled": false
   },
   "outputs": [
    {
     "data": {
      "text/html": [
       "<div>\n",
       "<style scoped>\n",
       "    .dataframe tbody tr th:only-of-type {\n",
       "        vertical-align: middle;\n",
       "    }\n",
       "\n",
       "    .dataframe tbody tr th {\n",
       "        vertical-align: top;\n",
       "    }\n",
       "\n",
       "    .dataframe thead th {\n",
       "        text-align: right;\n",
       "    }\n",
       "</style>\n",
       "<table border=\"1\" class=\"dataframe\">\n",
       "  <thead>\n",
       "    <tr style=\"text-align: right;\">\n",
       "      <th></th>\n",
       "      <th>Country</th>\n",
       "      <th>Happiness score</th>\n",
       "      <th>Life Ladder</th>\n",
       "      <th>Log ofGDP per capita</th>\n",
       "      <th>Social support</th>\n",
       "      <th>Healthy life expectancy</th>\n",
       "      <th>Freedom</th>\n",
       "      <th>Generosity</th>\n",
       "      <th>Corruptio</th>\n",
       "    </tr>\n",
       "  </thead>\n",
       "  <tbody>\n",
       "    <tr>\n",
       "      <th>0</th>\n",
       "      <td>Finland</td>\n",
       "      <td>7.7689</td>\n",
       "      <td>7.858107</td>\n",
       "      <td>10.636060</td>\n",
       "      <td>0.962155</td>\n",
       "      <td>71.900002</td>\n",
       "      <td>0.937807</td>\n",
       "      <td>-0.131735</td>\n",
       "      <td>0.555102</td>\n",
       "    </tr>\n",
       "    <tr>\n",
       "      <th>1</th>\n",
       "      <td>Denmark</td>\n",
       "      <td>7.6001</td>\n",
       "      <td>7.648786</td>\n",
       "      <td>10.755594</td>\n",
       "      <td>0.958219</td>\n",
       "      <td>72.400002</td>\n",
       "      <td>0.935438</td>\n",
       "      <td>0.015593</td>\n",
       "      <td>0.632478</td>\n",
       "    </tr>\n",
       "    <tr>\n",
       "      <th>2</th>\n",
       "      <td>Norway</td>\n",
       "      <td>7.5539</td>\n",
       "      <td>7.444262</td>\n",
       "      <td>11.085626</td>\n",
       "      <td>0.965962</td>\n",
       "      <td>73.199997</td>\n",
       "      <td>0.960429</td>\n",
       "      <td>0.075728</td>\n",
       "      <td>0.679503</td>\n",
       "    </tr>\n",
       "    <tr>\n",
       "      <th>3</th>\n",
       "      <td>Iceland</td>\n",
       "      <td>7.4936</td>\n",
       "      <td>7.458284</td>\n",
       "      <td>10.676714</td>\n",
       "      <td>0.977430</td>\n",
       "      <td>72.320000</td>\n",
       "      <td>0.885196</td>\n",
       "      <td>0.269986</td>\n",
       "      <td>0.238103</td>\n",
       "    </tr>\n",
       "    <tr>\n",
       "      <th>4</th>\n",
       "      <td>Netherlands</td>\n",
       "      <td>7.4876</td>\n",
       "      <td>7.463097</td>\n",
       "      <td>10.809204</td>\n",
       "      <td>0.939443</td>\n",
       "      <td>72.300003</td>\n",
       "      <td>0.919985</td>\n",
       "      <td>0.155536</td>\n",
       "      <td>0.656541</td>\n",
       "    </tr>\n",
       "  </tbody>\n",
       "</table>\n",
       "</div>"
      ],
      "text/plain": [
       "       Country  Happiness score  Life Ladder  Log ofGDP per capita  \\\n",
       "0      Finland           7.7689     7.858107             10.636060   \n",
       "1      Denmark           7.6001     7.648786             10.755594   \n",
       "2       Norway           7.5539     7.444262             11.085626   \n",
       "3      Iceland           7.4936     7.458284             10.676714   \n",
       "4  Netherlands           7.4876     7.463097             10.809204   \n",
       "\n",
       "   Social support  Healthy life expectancy   Freedom  Generosity  Corruptio  \n",
       "0        0.962155                71.900002  0.937807   -0.131735   0.555102  \n",
       "1        0.958219                72.400002  0.935438    0.015593   0.632478  \n",
       "2        0.965962                73.199997  0.960429    0.075728   0.679503  \n",
       "3        0.977430                72.320000  0.885196    0.269986   0.238103  \n",
       "4        0.939443                72.300003  0.919985    0.155536   0.656541  "
      ]
     },
     "execution_count": 2,
     "metadata": {},
     "output_type": "execute_result"
    }
   ],
   "source": [
    "df = pd.read_excel('./world-happiness-report-2018.xlsx')\n",
    "df.head() # 显示前五行"
   ]
  },
  {
   "cell_type": "code",
   "execution_count": 3,
   "id": "65f5b30e",
   "metadata": {},
   "outputs": [
    {
     "data": {
      "text/html": [
       "<div>\n",
       "<style scoped>\n",
       "    .dataframe tbody tr th:only-of-type {\n",
       "        vertical-align: middle;\n",
       "    }\n",
       "\n",
       "    .dataframe tbody tr th {\n",
       "        vertical-align: top;\n",
       "    }\n",
       "\n",
       "    .dataframe thead th {\n",
       "        text-align: right;\n",
       "    }\n",
       "</style>\n",
       "<table border=\"1\" class=\"dataframe\">\n",
       "  <thead>\n",
       "    <tr style=\"text-align: right;\">\n",
       "      <th></th>\n",
       "      <th>Country</th>\n",
       "      <th>Happiness score</th>\n",
       "      <th>Log ofGDP per capita</th>\n",
       "      <th>Social support</th>\n",
       "      <th>Healthy life expectancy</th>\n",
       "      <th>Freedom</th>\n",
       "      <th>Generosity</th>\n",
       "      <th>Corruptio</th>\n",
       "    </tr>\n",
       "  </thead>\n",
       "  <tbody>\n",
       "    <tr>\n",
       "      <th>0</th>\n",
       "      <td>Finland</td>\n",
       "      <td>7.7689</td>\n",
       "      <td>10.636060</td>\n",
       "      <td>0.962155</td>\n",
       "      <td>71.900002</td>\n",
       "      <td>0.937807</td>\n",
       "      <td>-0.131735</td>\n",
       "      <td>0.555102</td>\n",
       "    </tr>\n",
       "    <tr>\n",
       "      <th>1</th>\n",
       "      <td>Denmark</td>\n",
       "      <td>7.6001</td>\n",
       "      <td>10.755594</td>\n",
       "      <td>0.958219</td>\n",
       "      <td>72.400002</td>\n",
       "      <td>0.935438</td>\n",
       "      <td>0.015593</td>\n",
       "      <td>0.632478</td>\n",
       "    </tr>\n",
       "    <tr>\n",
       "      <th>2</th>\n",
       "      <td>Norway</td>\n",
       "      <td>7.5539</td>\n",
       "      <td>11.085626</td>\n",
       "      <td>0.965962</td>\n",
       "      <td>73.199997</td>\n",
       "      <td>0.960429</td>\n",
       "      <td>0.075728</td>\n",
       "      <td>0.679503</td>\n",
       "    </tr>\n",
       "  </tbody>\n",
       "</table>\n",
       "</div>"
      ],
      "text/plain": [
       "   Country  Happiness score  Log ofGDP per capita  Social support  \\\n",
       "0  Finland           7.7689             10.636060        0.962155   \n",
       "1  Denmark           7.6001             10.755594        0.958219   \n",
       "2   Norway           7.5539             11.085626        0.965962   \n",
       "\n",
       "   Healthy life expectancy   Freedom  Generosity  Corruptio  \n",
       "0                71.900002  0.937807   -0.131735   0.555102  \n",
       "1                72.400002  0.935438    0.015593   0.632478  \n",
       "2                73.199997  0.960429    0.075728   0.679503  "
      ]
     },
     "execution_count": 3,
     "metadata": {},
     "output_type": "execute_result"
    }
   ],
   "source": [
    "df.drop(['Life Ladder'], axis=1, inplace=True) # 删除'Life Ladder'行\n",
    "df.head(3)"
   ]
  },
  {
   "cell_type": "code",
   "execution_count": 4,
   "id": "33407202",
   "metadata": {},
   "outputs": [
    {
     "data": {
      "text/html": [
       "<div>\n",
       "<style scoped>\n",
       "    .dataframe tbody tr th:only-of-type {\n",
       "        vertical-align: middle;\n",
       "    }\n",
       "\n",
       "    .dataframe tbody tr th {\n",
       "        vertical-align: top;\n",
       "    }\n",
       "\n",
       "    .dataframe thead th {\n",
       "        text-align: right;\n",
       "    }\n",
       "</style>\n",
       "<table border=\"1\" class=\"dataframe\">\n",
       "  <thead>\n",
       "    <tr style=\"text-align: right;\">\n",
       "      <th></th>\n",
       "      <th>Country</th>\n",
       "      <th>Happiness score</th>\n",
       "      <th>log_GDP_per</th>\n",
       "      <th>Social support</th>\n",
       "      <th>healthy_lift_expect</th>\n",
       "      <th>Freedom</th>\n",
       "      <th>Generosity</th>\n",
       "      <th>Corruptio</th>\n",
       "    </tr>\n",
       "  </thead>\n",
       "  <tbody>\n",
       "    <tr>\n",
       "      <th>0</th>\n",
       "      <td>Finland</td>\n",
       "      <td>7.7689</td>\n",
       "      <td>10.636060</td>\n",
       "      <td>0.962155</td>\n",
       "      <td>71.900002</td>\n",
       "      <td>0.937807</td>\n",
       "      <td>-0.131735</td>\n",
       "      <td>0.555102</td>\n",
       "    </tr>\n",
       "    <tr>\n",
       "      <th>1</th>\n",
       "      <td>Denmark</td>\n",
       "      <td>7.6001</td>\n",
       "      <td>10.755594</td>\n",
       "      <td>0.958219</td>\n",
       "      <td>72.400002</td>\n",
       "      <td>0.935438</td>\n",
       "      <td>0.015593</td>\n",
       "      <td>0.632478</td>\n",
       "    </tr>\n",
       "    <tr>\n",
       "      <th>2</th>\n",
       "      <td>Norway</td>\n",
       "      <td>7.5539</td>\n",
       "      <td>11.085626</td>\n",
       "      <td>0.965962</td>\n",
       "      <td>73.199997</td>\n",
       "      <td>0.960429</td>\n",
       "      <td>0.075728</td>\n",
       "      <td>0.679503</td>\n",
       "    </tr>\n",
       "  </tbody>\n",
       "</table>\n",
       "</div>"
      ],
      "text/plain": [
       "   Country  Happiness score  log_GDP_per  Social support  healthy_lift_expect  \\\n",
       "0  Finland           7.7689    10.636060        0.962155            71.900002   \n",
       "1  Denmark           7.6001    10.755594        0.958219            72.400002   \n",
       "2   Norway           7.5539    11.085626        0.965962            73.199997   \n",
       "\n",
       "    Freedom  Generosity  Corruptio  \n",
       "0  0.937807   -0.131735   0.555102  \n",
       "1  0.935438    0.015593   0.632478  \n",
       "2  0.960429    0.075728   0.679503  "
      ]
     },
     "execution_count": 4,
     "metadata": {},
     "output_type": "execute_result"
    }
   ],
   "source": [
    "df.rename(columns={ # 修改列名\n",
    "    'Log ofGDP per capita': 'log_GDP_per',\n",
    "    'Healthy life expectancy': 'healthy_lift_expect'\n",
    "}, inplace=True)\n",
    "df.head(3)"
   ]
  },
  {
   "cell_type": "code",
   "execution_count": 5,
   "id": "dcb7b8c4",
   "metadata": {},
   "outputs": [
    {
     "data": {
      "text/plain": [
       "<AxesSubplot:>"
      ]
     },
     "execution_count": 5,
     "metadata": {},
     "output_type": "execute_result"
    },
    {
     "data": {
      "image/png": "[encoded data removed]",
      "text/plain": [
       "<Figure size 640x480 with 1 Axes>"
      ]
     },
     "metadata": {},
     "output_type": "display_data"
    }
   ],
   "source": [
    "df[['Freedom', 'Generosity', 'Social support']].head().plot() # 前五个国家, 三项指标的折线图"
   ]
  },
  {
   "cell_type": "code",
   "execution_count": 6,
   "id": "17ff0779",
   "metadata": {},
   "outputs": [
    {
     "data": {
      "text/plain": [
       "<AxesSubplot:>"
      ]
     },
     "execution_count": 6,
     "metadata": {},
     "output_type": "execute_result"
    },
    {
     "data": {
      "image/png": "[encoded data removed]",
      "text/plain": [
       "<Figure size 640x480 with 1 Axes>"
      ]
     },
     "metadata": {},
     "output_type": "display_data"
    }
   ],
   "source": [
    "df['log_GDP_per'].head(20).plot(kind='bar') # 显示前20个国家的人均GDP"
   ]
  },
  {
   "cell_type": "code",
   "execution_count": 7,
   "id": "d46ec990",
   "metadata": {},
   "outputs": [
    {
     "data": {
      "text/plain": [
       "<AxesSubplot:xlabel='Social support', ylabel='Freedom'>"
      ]
     },
     "execution_count": 7,
     "metadata": {},
     "output_type": "execute_result"
    },
    {
     "data": {
      "image/png": "[encoded data removed]",
      "text/plain": [
       "<Figure size 640x480 with 1 Axes>"
      ]
     },
     "metadata": {},
     "output_type": "display_data"
    }
   ],
   "source": [
    "df.plot(kind='scatter', x='Social support', y='Freedom') # 散点图, 查看'Social support'和'Freedom'的相关性"
   ]
  }
 ],
 "metadata": {
  "kernelspec": {
   "display_name": "Python 3 (ipykernel)",
   "language": "python",
   "name": "python3"
  },
  "language_info": {
   "codemirror_mode": {
    "name": "ipython",
    "version": 3
   },
   "file_extension": ".py",
   "mimetype": "text/x-python",
   "name": "python",
   "nbconvert_exporter": "python",
   "pygments_lexer": "ipython3",
   "version": "3.9.13"
  }
 },
 "nbformat": 4,
 "nbformat_minor": 5
}
